{
  "nbformat": 4,
  "nbformat_minor": 0,
  "metadata": {
    "colab": {
      "name": "Analisando os Dados do Airbnb - Bruxelas.ipynb",
      "provenance": [],
      "collapsed_sections": [],
      "include_colab_link": true
    },
    "kernelspec": {
      "display_name": "Python 3",
      "name": "python3"
    }
  },
  "cells": [
    {
      "cell_type": "markdown",
      "metadata": {
        "id": "view-in-github",
        "colab_type": "text"
      },
      "source": [
        "<a href=\"https://colab.research.google.com/github/ecordeiro/data_science/blob/main/Analisando_os_Dados_do_Airbnb_Bruxelas.ipynb\" target=\"_parent\"><img src=\"https://colab.research.google.com/assets/colab-badge.svg\" alt=\"Open In Colab\"/></a>"
      ]
    },
    {
      "cell_type": "markdown",
      "metadata": {
        "id": "kLI0gJtzDGuQ"
      },
      "source": [
        "<img alt=\"Colaboratory logo\" width=\"15%\" src=\"https://raw.githubusercontent.com/carlosfab/escola-data-science/master/img/novo_logo_bg_claro.png\">\n",
        "\n",
        "#### **Data Science na Prática 3.0**\n",
        "*by [sigmoidal.ai](https://sigmoidal.ai)*\n",
        "\n",
        "---\n",
        "\n",
        "# Análise dos Dados do Airbnb - *Bruxelas*\n",
        "\n",
        "O [Airbnb](https://www.airbnb.com.br/) já é considerado como sendo a **maior empresa hoteleira da atualidade**. Ah, o detalhe é que ele **não possui nenhum hotel**!\n",
        "\n",
        "Conectando pessoas que querem viajar (e se hospedar) com anfitriões que querem alugar seus imóveis de maneira prática, o Airbnb fornece uma plataforma inovadora para tornar essa hospedagem alternativa.\n",
        "\n",
        "No final de 2018, a Startup fundada 10 anos atrás, já havia **hospedado mais de 300 milhões** de pessoas ao redor de todo o mundo, desafiando as redes hoteleiras tradicionais.\n",
        "\n",
        "Uma das iniciativas do Airbnb é disponibilizar dados do site, para algumas das principais cidades do mundo. Por meio do portal [Inside Airbnb](http://insideairbnb.com/get-the-data.html), é possível baixar uma grande quantidade de dados para desenvolver projetos e soluções de *Data Science*.\n",
        "\n",
        "<center><img alt=\"Analisando Airbnb\" width=\"10%\" src=\"https://www.area360.com.au/wp-content/uploads/2017/09/airbnb-logo.jpg\"></center>\n",
        "\n",
        "**Neste *notebook*, iremos analisar os dados referentes à cidade de Bruxelas, e ver quais insights podem ser extraídos a partir de dados brutos.**"
      ]
    },
    {
      "cell_type": "markdown",
      "metadata": {
        "id": "FLzdHVLCynwa"
      },
      "source": [
        "**Bruxelas** é a Capital da Bélgica, a Região desta está localizada na parte central do país e faz parte da Comunidade francesa da Bélgica.\n",
        "\n",
        "Bruxelas cresceu de uma fortaleza no século X, fundada por um descendente de Carlos Magno, para uma aglomeração urbana de mais de um milhão de habitantes.A área metropolitana da região tem uma população de mais de 1,8 milhões de habitantes, o que a torna a maior do país.\n",
        "\n",
        "Desde o fim da Segunda Guerra Mundial Bruxelas é um importante centro de política internacional. A presença das principais instituições da União Europeia, bem como da sede da Organização do Tratado do Atlântico Norte (OTAN), fez da região uma sede poliglota de muitas organizações internacionais, políticos, diplomatas e de funcionários públicos. Embora historicamente seja uma região de falantes do neerlandês, Bruxelas tornou-se uma região com cada vez mais falantes da língua francesa ao longo dos séculos XIX e XX. Hoje, a maioria dos habitantes são falantes nativos do francês, embora ambas as línguas tenham estatuto oficial na região. Tensões linguísticas ainda se mantém e as leis que regem o uso de línguas nos municípios em torno de Bruxelas são um tema de muita controvérsia na Bélgica.\n",
        "\n",
        "Bruxelas é uma cidade onde sua atração turistica se baseia na arquitetura, arte, gastronomia e também por sofrer influência holandesa e francesa, se torna super atraente entre os destinos Europeus."
      ]
    },
    {
      "cell_type": "markdown",
      "metadata": {
        "id": "0zxQHhIUDF_2"
      },
      "source": [
        "## Obtenção dos Dados\n",
        "\n",
        "Os dados foram obtidos no site insideairbnb, e atualizados em 13/07/2021"
      ]
    },
    {
      "cell_type": "code",
      "metadata": {
        "id": "Vhp2wMPgJ6zX"
      },
      "source": [
        "# importar os pacotes necessarios\n",
        "import pandas as pd\n",
        "import matplotlib.pyplot as plt\n",
        "import seaborn as sns\n",
        "from sklearn.preprocessing import OrdinalEncoder\n",
        "\n",
        "%matplotlib inline"
      ],
      "execution_count": 61,
      "outputs": []
    },
    {
      "cell_type": "code",
      "metadata": {
        "id": "tUmoAT8DLQ5T"
      },
      "source": [
        "# importar o arquivo listings.csv para um DataFrame\n",
        "df = pd.read_csv('http://data.insideairbnb.com/belgium/bru/brussels/2021-07-13/visualisations/listings.csv')"
      ],
      "execution_count": 62,
      "outputs": []
    },
    {
      "cell_type": "markdown",
      "metadata": {
        "id": "_Jfrrbyu7EdB"
      },
      "source": [
        "## Funções"
      ]
    },
    {
      "cell_type": "code",
      "metadata": {
        "id": "QDdC_B2h7KAP"
      },
      "source": [
        "def dummie(latributs,data_frame):\n",
        "    \"\"\"\n",
        "      Função para transformar uma coluna com dados categóricos em várias colunas com dados binários.\n",
        "      Parametros:\n",
        "        latributs -> Lista com nomes das colunas com dados categóricos\n",
        "        data_frame -> Dataframe com os dados originais\n",
        "      Retorno:\n",
        "        Dataframe ja com as novas colunas e valores transformados\n",
        "    \"\"\"\n",
        "    l_df_retorno = []\n",
        "    for column in latributs:\n",
        "        df = pd.get_dummies(data_frame[column],\n",
        "                             prefix=column,\n",
        "                             prefix_sep='_',\n",
        "                             dummy_na=False, \n",
        "                             columns=None, \n",
        "                             sparse=False, \n",
        "                             drop_first=False, \n",
        "                             dtype=None)\n",
        "        l_df_retorno.append(df)\n",
        "    return pd.concat(l_df_retorno,axis=1)"
      ],
      "execution_count": 63,
      "outputs": []
    },
    {
      "cell_type": "markdown",
      "metadata": {
        "id": "qb5By2nIMS6m"
      },
      "source": [
        "## Análise dos Dados\n",
        "\n",
        "As variáveis disponibilizdas pela Airbnb estão descritas abaixo."
      ]
    },
    {
      "cell_type": "markdown",
      "metadata": {
        "id": "RYgvuebKNg8-"
      },
      "source": [
        "**Dicionário das variáveis**\n",
        "\n",
        "* **id**: Identificador do Imóvel a ser alugado\n",
        "* **name**: Descrição do Imóvel a ser alugado\n",
        "* **host_id**: Identificador do Host. Um host poderá ter mais de um imóvel para ser alugado.\n",
        "* **host_name**: Nome do host.\n",
        "* **neighbourhood_group**: O grupo de vizinhança foi geocodificado usando a latitude e longitude em comparação com as vizinhanças definidas por shapefiles digitais abertos ou públicos. Todos os valores estão nulos.\n",
        "* **neighbourhood**: Nome dos bairros dos imóveis. \n",
        "A vizinhança foi geocodificada usando a latitude e longitude em comparação com as vizinhanças definidas por shapefiles digitais abertos ou públicos.\n",
        "* **latitude**: Valor da latitude do imóvel. *Uses the World Geodetic System (WGS84) projection for latitude and longitude.*\n",
        "* **longitude**: Valor da longitude do imóvel. *Uses the World Geodetic System (WGS84) projection for latitude and longitude.*\n",
        "* **room_type**: Tipo de Imóvel ('Entire home/apt', 'Hotel room', 'Private room', 'Shared room')\n",
        "\n",
        " ![romm_type.jpg](data:image/jpeg;base64,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)\n",
        "\n",
        "* **price**: Preço da diária do Imóvel\n",
        "* **minimum_nights**: Mínimo de noites para aluguel\n",
        "* **number_of_reviews**: número de comentários de clientes que alugaram anteriormente\n",
        "* **last_review**: data do último comentário\n",
        "* **reviews_per_month**: % do número de comentários em relação ao número de locações realizadas por mês.\n",
        "* **calculated_host_listings_count**: Número de imoveis do Host\n",
        "* **availability_365**: Quantidade de diárias disponíveis durante o ano.\n",
        "\n",
        " ![image.png](data:image/png;base64,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)\n",
        "\n",
        "\n",
        "\n",
        "Antes de iniciar qualquer análise, vamos verificar a cara do nosso *dataset*, analisando as 5 primeiras entradas."
      ]
    },
    {
      "cell_type": "code",
      "metadata": {
        "colab": {
          "base_uri": "https://localhost:8080/",
          "height": 309
        },
        "id": "2iS_dae7YQtO",
        "outputId": "b1fc4801-57fc-469a-b243-ea731cdfefc5"
      },
      "source": [
        "df.head()"
      ],
      "execution_count": 64,
      "outputs": [
        {
          "output_type": "execute_result",
          "data": {
            "text/html": [
              "<div>\n",
              "<style scoped>\n",
              "    .dataframe tbody tr th:only-of-type {\n",
              "        vertical-align: middle;\n",
              "    }\n",
              "\n",
              "    .dataframe tbody tr th {\n",
              "        vertical-align: top;\n",
              "    }\n",
              "\n",
              "    .dataframe thead th {\n",
              "        text-align: right;\n",
              "    }\n",
              "</style>\n",
              "<table border=\"1\" class=\"dataframe\">\n",
              "  <thead>\n",
              "    <tr style=\"text-align: right;\">\n",
              "      <th></th>\n",
              "      <th>id</th>\n",
              "      <th>name</th>\n",
              "      <th>host_id</th>\n",
              "      <th>host_name</th>\n",
              "      <th>neighbourhood_group</th>\n",
              "      <th>neighbourhood</th>\n",
              "      <th>latitude</th>\n",
              "      <th>longitude</th>\n",
              "      <th>room_type</th>\n",
              "      <th>price</th>\n",
              "      <th>minimum_nights</th>\n",
              "      <th>number_of_reviews</th>\n",
              "      <th>last_review</th>\n",
              "      <th>reviews_per_month</th>\n",
              "      <th>calculated_host_listings_count</th>\n",
              "      <th>availability_365</th>\n",
              "    </tr>\n",
              "  </thead>\n",
              "  <tbody>\n",
              "    <tr>\n",
              "      <th>0</th>\n",
              "      <td>2352</td>\n",
              "      <td>Triplex-2chmbrs,grande sdb,terrasse= tous confort</td>\n",
              "      <td>2582</td>\n",
              "      <td>Oda</td>\n",
              "      <td>NaN</td>\n",
              "      <td>Molenbeek-Saint-Jean</td>\n",
              "      <td>50.85702</td>\n",
              "      <td>4.30771</td>\n",
              "      <td>Entire home/apt</td>\n",
              "      <td>90</td>\n",
              "      <td>2</td>\n",
              "      <td>16</td>\n",
              "      <td>2017-06-30</td>\n",
              "      <td>0.19</td>\n",
              "      <td>2</td>\n",
              "      <td>264</td>\n",
              "    </tr>\n",
              "    <tr>\n",
              "      <th>1</th>\n",
              "      <td>2354</td>\n",
              "      <td>COURT/Long- 1chmb+1salon+sdd+terras</td>\n",
              "      <td>2582</td>\n",
              "      <td>Oda</td>\n",
              "      <td>NaN</td>\n",
              "      <td>Molenbeek-Saint-Jean</td>\n",
              "      <td>50.85709</td>\n",
              "      <td>4.30757</td>\n",
              "      <td>Entire home/apt</td>\n",
              "      <td>74</td>\n",
              "      <td>2</td>\n",
              "      <td>2</td>\n",
              "      <td>2018-10-28</td>\n",
              "      <td>0.03</td>\n",
              "      <td>2</td>\n",
              "      <td>363</td>\n",
              "    </tr>\n",
              "    <tr>\n",
              "      <th>2</th>\n",
              "      <td>45145</td>\n",
              "      <td>B&amp;B Welcome to my place -  2</td>\n",
              "      <td>199370</td>\n",
              "      <td>Erick</td>\n",
              "      <td>NaN</td>\n",
              "      <td>Bruxelles</td>\n",
              "      <td>50.85182</td>\n",
              "      <td>4.36809</td>\n",
              "      <td>Hotel room</td>\n",
              "      <td>91</td>\n",
              "      <td>1</td>\n",
              "      <td>3</td>\n",
              "      <td>2010-11-06</td>\n",
              "      <td>0.11</td>\n",
              "      <td>2</td>\n",
              "      <td>338</td>\n",
              "    </tr>\n",
              "    <tr>\n",
              "      <th>3</th>\n",
              "      <td>48180</td>\n",
              "      <td>Top Apart/location 0 default 2rooms</td>\n",
              "      <td>219560</td>\n",
              "      <td>Ahmet</td>\n",
              "      <td>NaN</td>\n",
              "      <td>Woluwe-Saint-Pierre</td>\n",
              "      <td>50.83771</td>\n",
              "      <td>4.40707</td>\n",
              "      <td>Entire home/apt</td>\n",
              "      <td>200</td>\n",
              "      <td>2</td>\n",
              "      <td>0</td>\n",
              "      <td>NaN</td>\n",
              "      <td>NaN</td>\n",
              "      <td>1</td>\n",
              "      <td>365</td>\n",
              "    </tr>\n",
              "    <tr>\n",
              "      <th>4</th>\n",
              "      <td>52796</td>\n",
              "      <td>Bright apartment in Ixelles/Louise</td>\n",
              "      <td>244722</td>\n",
              "      <td>Pierre</td>\n",
              "      <td>NaN</td>\n",
              "      <td>Ixelles</td>\n",
              "      <td>50.83362</td>\n",
              "      <td>4.36057</td>\n",
              "      <td>Entire home/apt</td>\n",
              "      <td>74</td>\n",
              "      <td>5</td>\n",
              "      <td>105</td>\n",
              "      <td>2020-02-28</td>\n",
              "      <td>1.00</td>\n",
              "      <td>1</td>\n",
              "      <td>285</td>\n",
              "    </tr>\n",
              "  </tbody>\n",
              "</table>\n",
              "</div>"
            ],
            "text/plain": [
              "      id  ... availability_365\n",
              "0   2352  ...              264\n",
              "1   2354  ...              363\n",
              "2  45145  ...              338\n",
              "3  48180  ...              365\n",
              "4  52796  ...              285\n",
              "\n",
              "[5 rows x 16 columns]"
            ]
          },
          "metadata": {
            "tags": []
          },
          "execution_count": 64
        }
      ]
    },
    {
      "cell_type": "markdown",
      "metadata": {
        "id": "6-B_qtEaYEd-"
      },
      "source": [
        "### Um pouco mais dos dados\n",
        "\n",
        "Percebemos que existem 5718 linhas e 16 colunas no conjunto de dados, ou seja, 5718 imóveis disponíveis para locação e 16 varíaveis que identificam algum atríbuto referente a cada locação."
      ]
    },
    {
      "cell_type": "code",
      "metadata": {
        "colab": {
          "base_uri": "https://localhost:8080/",
          "height": 326
        },
        "id": "TFRK0tniLV-G",
        "outputId": "46f9eb03-498e-4b7b-b87f-ef0ada0294e0"
      },
      "source": [
        "# identificar o volume de dados do DataFrame\n",
        "print(df.shape)\n",
        "\n",
        "# verificar as 5 primeiras entradas do dataset\n",
        "df.head()"
      ],
      "execution_count": 65,
      "outputs": [
        {
          "output_type": "stream",
          "text": [
            "(5718, 16)\n"
          ],
          "name": "stdout"
        },
        {
          "output_type": "execute_result",
          "data": {
            "text/html": [
              "<div>\n",
              "<style scoped>\n",
              "    .dataframe tbody tr th:only-of-type {\n",
              "        vertical-align: middle;\n",
              "    }\n",
              "\n",
              "    .dataframe tbody tr th {\n",
              "        vertical-align: top;\n",
              "    }\n",
              "\n",
              "    .dataframe thead th {\n",
              "        text-align: right;\n",
              "    }\n",
              "</style>\n",
              "<table border=\"1\" class=\"dataframe\">\n",
              "  <thead>\n",
              "    <tr style=\"text-align: right;\">\n",
              "      <th></th>\n",
              "      <th>id</th>\n",
              "      <th>name</th>\n",
              "      <th>host_id</th>\n",
              "      <th>host_name</th>\n",
              "      <th>neighbourhood_group</th>\n",
              "      <th>neighbourhood</th>\n",
              "      <th>latitude</th>\n",
              "      <th>longitude</th>\n",
              "      <th>room_type</th>\n",
              "      <th>price</th>\n",
              "      <th>minimum_nights</th>\n",
              "      <th>number_of_reviews</th>\n",
              "      <th>last_review</th>\n",
              "      <th>reviews_per_month</th>\n",
              "      <th>calculated_host_listings_count</th>\n",
              "      <th>availability_365</th>\n",
              "    </tr>\n",
              "  </thead>\n",
              "  <tbody>\n",
              "    <tr>\n",
              "      <th>0</th>\n",
              "      <td>2352</td>\n",
              "      <td>Triplex-2chmbrs,grande sdb,terrasse= tous confort</td>\n",
              "      <td>2582</td>\n",
              "      <td>Oda</td>\n",
              "      <td>NaN</td>\n",
              "      <td>Molenbeek-Saint-Jean</td>\n",
              "      <td>50.85702</td>\n",
              "      <td>4.30771</td>\n",
              "      <td>Entire home/apt</td>\n",
              "      <td>90</td>\n",
              "      <td>2</td>\n",
              "      <td>16</td>\n",
              "      <td>2017-06-30</td>\n",
              "      <td>0.19</td>\n",
              "      <td>2</td>\n",
              "      <td>264</td>\n",
              "    </tr>\n",
              "    <tr>\n",
              "      <th>1</th>\n",
              "      <td>2354</td>\n",
              "      <td>COURT/Long- 1chmb+1salon+sdd+terras</td>\n",
              "      <td>2582</td>\n",
              "      <td>Oda</td>\n",
              "      <td>NaN</td>\n",
              "      <td>Molenbeek-Saint-Jean</td>\n",
              "      <td>50.85709</td>\n",
              "      <td>4.30757</td>\n",
              "      <td>Entire home/apt</td>\n",
              "      <td>74</td>\n",
              "      <td>2</td>\n",
              "      <td>2</td>\n",
              "      <td>2018-10-28</td>\n",
              "      <td>0.03</td>\n",
              "      <td>2</td>\n",
              "      <td>363</td>\n",
              "    </tr>\n",
              "    <tr>\n",
              "      <th>2</th>\n",
              "      <td>45145</td>\n",
              "      <td>B&amp;B Welcome to my place -  2</td>\n",
              "      <td>199370</td>\n",
              "      <td>Erick</td>\n",
              "      <td>NaN</td>\n",
              "      <td>Bruxelles</td>\n",
              "      <td>50.85182</td>\n",
              "      <td>4.36809</td>\n",
              "      <td>Hotel room</td>\n",
              "      <td>91</td>\n",
              "      <td>1</td>\n",
              "      <td>3</td>\n",
              "      <td>2010-11-06</td>\n",
              "      <td>0.11</td>\n",
              "      <td>2</td>\n",
              "      <td>338</td>\n",
              "    </tr>\n",
              "    <tr>\n",
              "      <th>3</th>\n",
              "      <td>48180</td>\n",
              "      <td>Top Apart/location 0 default 2rooms</td>\n",
              "      <td>219560</td>\n",
              "      <td>Ahmet</td>\n",
              "      <td>NaN</td>\n",
              "      <td>Woluwe-Saint-Pierre</td>\n",
              "      <td>50.83771</td>\n",
              "      <td>4.40707</td>\n",
              "      <td>Entire home/apt</td>\n",
              "      <td>200</td>\n",
              "      <td>2</td>\n",
              "      <td>0</td>\n",
              "      <td>NaN</td>\n",
              "      <td>NaN</td>\n",
              "      <td>1</td>\n",
              "      <td>365</td>\n",
              "    </tr>\n",
              "    <tr>\n",
              "      <th>4</th>\n",
              "      <td>52796</td>\n",
              "      <td>Bright apartment in Ixelles/Louise</td>\n",
              "      <td>244722</td>\n",
              "      <td>Pierre</td>\n",
              "      <td>NaN</td>\n",
              "      <td>Ixelles</td>\n",
              "      <td>50.83362</td>\n",
              "      <td>4.36057</td>\n",
              "      <td>Entire home/apt</td>\n",
              "      <td>74</td>\n",
              "      <td>5</td>\n",
              "      <td>105</td>\n",
              "      <td>2020-02-28</td>\n",
              "      <td>1.00</td>\n",
              "      <td>1</td>\n",
              "      <td>285</td>\n",
              "    </tr>\n",
              "  </tbody>\n",
              "</table>\n",
              "</div>"
            ],
            "text/plain": [
              "      id  ... availability_365\n",
              "0   2352  ...              264\n",
              "1   2354  ...              363\n",
              "2  45145  ...              338\n",
              "3  48180  ...              365\n",
              "4  52796  ...              285\n",
              "\n",
              "[5 rows x 16 columns]"
            ]
          },
          "metadata": {
            "tags": []
          },
          "execution_count": 65
        }
      ]
    },
    {
      "cell_type": "markdown",
      "metadata": {
        "id": "yz1urSUGW9iE"
      },
      "source": [
        "### **Valore ausentes:**  \n",
        "Nesta etapa, analisamos os valores ausentes no intuito de identificar se realmente são valores \"ausentes\" ou se podemos \"corrigir\" os valores, preenchendo de alguma maneira que faça sentido no conjunto de dados.\n",
        "\n",
        "Observando abaixo, detectamos que os 4 primeiros itens precisam ser analisandos no sentido descrito anteriormente."
      ]
    },
    {
      "cell_type": "code",
      "metadata": {
        "colab": {
          "base_uri": "https://localhost:8080/"
        },
        "id": "plk2FjbCXOqP",
        "outputId": "5a52a03d-1abe-4b18-9efc-78668bfc6ec1"
      },
      "source": [
        "# ordenar em ordem decrescente as variáveis por seus valores ausentes\n",
        "(df.isnull().sum()/df.shape[0]).sort_values(ascending=False)"
      ],
      "execution_count": 66,
      "outputs": [
        {
          "output_type": "execute_result",
          "data": {
            "text/plain": [
              "neighbourhood_group               1.000000\n",
              "reviews_per_month                 0.197622\n",
              "last_review                       0.197622\n",
              "host_name                         0.000350\n",
              "availability_365                  0.000000\n",
              "calculated_host_listings_count    0.000000\n",
              "number_of_reviews                 0.000000\n",
              "minimum_nights                    0.000000\n",
              "price                             0.000000\n",
              "room_type                         0.000000\n",
              "longitude                         0.000000\n",
              "latitude                          0.000000\n",
              "neighbourhood                     0.000000\n",
              "host_id                           0.000000\n",
              "name                              0.000000\n",
              "id                                0.000000\n",
              "dtype: float64"
            ]
          },
          "metadata": {
            "tags": []
          },
          "execution_count": 66
        }
      ]
    },
    {
      "cell_type": "markdown",
      "metadata": {
        "id": "_ZrcKz5O3kFH"
      },
      "source": [
        "Percebemos que a varíavel neighbourhood_group está completamente nula. **Diante desta informação é necessário realizar a exclusão.**\n",
        "\n",
        "---\n",
        "\n"
      ]
    },
    {
      "cell_type": "markdown",
      "metadata": {
        "id": "-LRQpNBK3BeG"
      },
      "source": [
        "### Seguindo a análise dos dados ausentes.\n",
        "\n",
        "* Analisando a quantidade de valores nulos nas variáveis **reviews_per_month** e **last_review**.\n"
      ]
    },
    {
      "cell_type": "code",
      "metadata": {
        "colab": {
          "base_uri": "https://localhost:8080/"
        },
        "id": "6W4Df6h14FOH",
        "outputId": "8b4ef19a-c0fb-4ce4-b1af-e5c5f6ffe830"
      },
      "source": [
        "df[['reviews_per_month','last_review']].isna().sum()"
      ],
      "execution_count": 67,
      "outputs": [
        {
          "output_type": "execute_result",
          "data": {
            "text/plain": [
              "reviews_per_month    1130\n",
              "last_review          1130\n",
              "dtype: int64"
            ]
          },
          "metadata": {
            "tags": []
          },
          "execution_count": 67
        }
      ]
    },
    {
      "cell_type": "markdown",
      "metadata": {
        "id": "Qib_NKPtqQvO"
      },
      "source": [
        "* Analisando se existe uma relação entre os valores nulos e o **número de reviews**."
      ]
    },
    {
      "cell_type": "code",
      "metadata": {
        "colab": {
          "base_uri": "https://localhost:8080/",
          "height": 80
        },
        "id": "ZUhV6hF-4aWu",
        "outputId": "5af17e5c-e471-4652-ba45-bcb1ab3d5b88"
      },
      "source": [
        "df[df.reviews_per_month.isnull()][['reviews_per_month','number_of_reviews','last_review']].drop_duplicates()"
      ],
      "execution_count": 68,
      "outputs": [
        {
          "output_type": "execute_result",
          "data": {
            "text/html": [
              "<div>\n",
              "<style scoped>\n",
              "    .dataframe tbody tr th:only-of-type {\n",
              "        vertical-align: middle;\n",
              "    }\n",
              "\n",
              "    .dataframe tbody tr th {\n",
              "        vertical-align: top;\n",
              "    }\n",
              "\n",
              "    .dataframe thead th {\n",
              "        text-align: right;\n",
              "    }\n",
              "</style>\n",
              "<table border=\"1\" class=\"dataframe\">\n",
              "  <thead>\n",
              "    <tr style=\"text-align: right;\">\n",
              "      <th></th>\n",
              "      <th>reviews_per_month</th>\n",
              "      <th>number_of_reviews</th>\n",
              "      <th>last_review</th>\n",
              "    </tr>\n",
              "  </thead>\n",
              "  <tbody>\n",
              "    <tr>\n",
              "      <th>3</th>\n",
              "      <td>NaN</td>\n",
              "      <td>0</td>\n",
              "      <td>NaN</td>\n",
              "    </tr>\n",
              "  </tbody>\n",
              "</table>\n",
              "</div>"
            ],
            "text/plain": [
              "   reviews_per_month  number_of_reviews last_review\n",
              "3                NaN                  0         NaN"
            ]
          },
          "metadata": {
            "tags": []
          },
          "execution_count": 68
        }
      ]
    },
    {
      "cell_type": "markdown",
      "metadata": {
        "id": "lxZXzHHG32wL"
      },
      "source": [
        "\n",
        "* **As Variáveis reviews_per_month e last_review, estão nulas por não existirem reviews realizadas. Dessa forma, iremos preencher a reviews_per_month com \"0\" onde for nula e a last_review com a média das datas disponíveis onde for nulo.**\n",
        "\n",
        "\n",
        "---\n",
        "\n"
      ]
    },
    {
      "cell_type": "code",
      "metadata": {
        "id": "ydzur1pY-0yi"
      },
      "source": [
        "df.reviews_per_month.fillna(0, inplace=True)\n",
        "df.last_review.fillna(pd.to_datetime(df['last_review'], format='%Y-%m-%d').mean().date(), inplace=True)"
      ],
      "execution_count": 69,
      "outputs": []
    },
    {
      "cell_type": "markdown",
      "metadata": {
        "id": "PqJfj9izENA5"
      },
      "source": [
        "* Analisando host_name"
      ]
    },
    {
      "cell_type": "code",
      "metadata": {
        "id": "6eD3NO_a_Tu1"
      },
      "source": [
        "host_id_lst = list(df[df.host_name.isnull()]['host_id'])"
      ],
      "execution_count": 70,
      "outputs": []
    },
    {
      "cell_type": "code",
      "metadata": {
        "colab": {
          "base_uri": "https://localhost:8080/",
          "height": 284
        },
        "id": "Zy_HShrNDpWH",
        "outputId": "d6a36cd2-39b4-4671-bf29-7142cea87c1d"
      },
      "source": [
        "df[df.host_id.isin(host_id_lst)]"
      ],
      "execution_count": 71,
      "outputs": [
        {
          "output_type": "execute_result",
          "data": {
            "text/html": [
              "<div>\n",
              "<style scoped>\n",
              "    .dataframe tbody tr th:only-of-type {\n",
              "        vertical-align: middle;\n",
              "    }\n",
              "\n",
              "    .dataframe tbody tr th {\n",
              "        vertical-align: top;\n",
              "    }\n",
              "\n",
              "    .dataframe thead th {\n",
              "        text-align: right;\n",
              "    }\n",
              "</style>\n",
              "<table border=\"1\" class=\"dataframe\">\n",
              "  <thead>\n",
              "    <tr style=\"text-align: right;\">\n",
              "      <th></th>\n",
              "      <th>id</th>\n",
              "      <th>name</th>\n",
              "      <th>host_id</th>\n",
              "      <th>host_name</th>\n",
              "      <th>neighbourhood_group</th>\n",
              "      <th>neighbourhood</th>\n",
              "      <th>latitude</th>\n",
              "      <th>longitude</th>\n",
              "      <th>room_type</th>\n",
              "      <th>price</th>\n",
              "      <th>minimum_nights</th>\n",
              "      <th>number_of_reviews</th>\n",
              "      <th>last_review</th>\n",
              "      <th>reviews_per_month</th>\n",
              "      <th>calculated_host_listings_count</th>\n",
              "      <th>availability_365</th>\n",
              "    </tr>\n",
              "  </thead>\n",
              "  <tbody>\n",
              "    <tr>\n",
              "      <th>789</th>\n",
              "      <td>8979970</td>\n",
              "      <td>Duplex loft Midi station, close to the city ce...</td>\n",
              "      <td>12105893</td>\n",
              "      <td>NaN</td>\n",
              "      <td>NaN</td>\n",
              "      <td>Anderlecht</td>\n",
              "      <td>50.83379</td>\n",
              "      <td>4.33105</td>\n",
              "      <td>Entire home/apt</td>\n",
              "      <td>100</td>\n",
              "      <td>4</td>\n",
              "      <td>24</td>\n",
              "      <td>2017-04-09</td>\n",
              "      <td>0.36</td>\n",
              "      <td>1</td>\n",
              "      <td>29</td>\n",
              "    </tr>\n",
              "    <tr>\n",
              "      <th>2412</th>\n",
              "      <td>28998246</td>\n",
              "      <td>Luxury Brussels Design Loft with a view .</td>\n",
              "      <td>6435844</td>\n",
              "      <td>NaN</td>\n",
              "      <td>NaN</td>\n",
              "      <td>Jette</td>\n",
              "      <td>50.86632</td>\n",
              "      <td>4.33253</td>\n",
              "      <td>Entire home/apt</td>\n",
              "      <td>99</td>\n",
              "      <td>2</td>\n",
              "      <td>1</td>\n",
              "      <td>2018-10-19</td>\n",
              "      <td>0.03</td>\n",
              "      <td>1</td>\n",
              "      <td>358</td>\n",
              "    </tr>\n",
              "  </tbody>\n",
              "</table>\n",
              "</div>"
            ],
            "text/plain": [
              "            id  ... availability_365\n",
              "789    8979970  ...               29\n",
              "2412  28998246  ...              358\n",
              "\n",
              "[2 rows x 16 columns]"
            ]
          },
          "metadata": {
            "tags": []
          },
          "execution_count": 71
        }
      ]
    },
    {
      "cell_type": "markdown",
      "metadata": {
        "id": "VZPTL0n2EWcT"
      },
      "source": [
        "* Percebemos que somente duas linhas estão nulas. Fizemos uma busca na base pelo host_id, para tentar identificar o host_name, mas sem sucesso.\n",
        "* Mediante a esse resultado, optamos por preencher o valor nulo com o mesmo valor do host_id."
      ]
    },
    {
      "cell_type": "code",
      "metadata": {
        "id": "h3QedQpQEUgW"
      },
      "source": [
        "df.loc[df.host_name.isnull(),'host_name'] = df.loc[df.host_name.isnull()]['host_id']"
      ],
      "execution_count": 72,
      "outputs": []
    },
    {
      "cell_type": "code",
      "metadata": {
        "id": "MlbORVDeFMNg"
      },
      "source": [
        "df.drop(['neighbourhood_group'],axis=1, inplace=True)"
      ],
      "execution_count": 73,
      "outputs": []
    },
    {
      "cell_type": "markdown",
      "metadata": {
        "id": "tMxrrZYuFDq5"
      },
      "source": [
        "* **Verificando novamente os dados nulos**"
      ]
    },
    {
      "cell_type": "code",
      "metadata": {
        "colab": {
          "base_uri": "https://localhost:8080/"
        },
        "id": "mzExu1BNFBwC",
        "outputId": "668322ba-0473-4036-8f0e-e4cceb376174"
      },
      "source": [
        "# ordenar em ordem decrescente as variáveis por seus valores ausentes\n",
        "(df.isnull().sum()/df.shape[0]).sort_values(ascending=False)"
      ],
      "execution_count": 74,
      "outputs": [
        {
          "output_type": "execute_result",
          "data": {
            "text/plain": [
              "availability_365                  0.0\n",
              "calculated_host_listings_count    0.0\n",
              "reviews_per_month                 0.0\n",
              "last_review                       0.0\n",
              "number_of_reviews                 0.0\n",
              "minimum_nights                    0.0\n",
              "price                             0.0\n",
              "room_type                         0.0\n",
              "longitude                         0.0\n",
              "latitude                          0.0\n",
              "neighbourhood                     0.0\n",
              "host_name                         0.0\n",
              "host_id                           0.0\n",
              "name                              0.0\n",
              "id                                0.0\n",
              "dtype: float64"
            ]
          },
          "metadata": {
            "tags": []
          },
          "execution_count": 74
        }
      ]
    },
    {
      "cell_type": "markdown",
      "metadata": {
        "id": "6sQVmGIr379p"
      },
      "source": [
        "### Após as trasformações realizadas, percebemos que excluímos completamente os dados nulos de maneira coerente com os dados apresentados.\n",
        "\n",
        "\n",
        "\n",
        "---\n",
        "\n"
      ]
    },
    {
      "cell_type": "markdown",
      "metadata": {
        "id": "iHXvvHIxaoNc"
      },
      "source": [
        "### **Distribuição das variáveis** \n",
        "Para conhecer melhor a distribuição dos dados disponíveis, imprimimos os histogramas de cada váriável numérica. O objetivo neste momento é tentar identicar comportamentos com algum tipo de discrepância."
      ]
    },
    {
      "cell_type": "code",
      "metadata": {
        "colab": {
          "base_uri": "https://localhost:8080/",
          "height": 607
        },
        "id": "cp54vKFVtLQa",
        "outputId": "e201d182-b038-434c-eb48-be718591480e"
      },
      "source": [
        "df.hist(bins=15, figsize=(15,10));"
      ],
      "execution_count": 75,
      "outputs": [
        {
          "output_type": "display_data",
          "data": {
            "image/png": "[encoded data removed]",
            "text/plain": [
              "<Figure size 1080x720 with 12 Axes>"
            ]
          },
          "metadata": {
            "tags": [],
            "needs_background": "light"
          }
        }
      ]
    },
    {
      "cell_type": "markdown",
      "metadata": {
        "id": "viEWaea8uNn8"
      },
      "source": [
        "Analisando as distribuições acima, percebemos duas distribuições próximas a **distribuição normal** nas colunas **latitude e longitude**.\n",
        "\n",
        "Ja nas colunas **price, minimum_nights, number_of_reviews, reviews_per_month e calculated_host_listings_count**, é possível perceber uma grande possibilidade da presença de **outliers**.\n",
        "\n",
        "As colunas **id e host_id**, por se tratarem de identificadores não necessitam de análise, assim como a coluna **neighbourhood_group**, onde não existem dados válidos.\n",
        "\n",
        "Na coluna **availability_365**, será necessário uma avaliação mais aprofundada, ja que não foi possível identificar uma distribuição nem outros tipos de padrão.\n",
        "\n"
      ]
    },
    {
      "cell_type": "markdown",
      "metadata": {
        "id": "wM6LueHpxbzq"
      },
      "source": [
        "### **Análise de Outliers**\n",
        "\n",
        "*Outliers* são pontos discrepantes, que estão destoando do padrão do conjunto de dados.\n",
        "\n",
        "É muito importante conseguir identificar e tratar esses outliers, pois eles podem nos mostrar uma imagem incorreta dos nossos dados.\n",
        "\n",
        "\n",
        "<p align=\"center\"><img src=\"https://miro.medium.com/max/18000/1*2c21SkzJMf3frPXPAR_gZA.png\n",
        "\", width=\"50%\"></p>"
      ]
    },
    {
      "cell_type": "code",
      "metadata": {
        "colab": {
          "base_uri": "https://localhost:8080/",
          "height": 317
        },
        "id": "-I-Hs6hGxkzn",
        "outputId": "9659a1ba-12a4-4695-a2e4-417daaea64c2"
      },
      "source": [
        "df.describe()"
      ],
      "execution_count": 76,
      "outputs": [
        {
          "output_type": "execute_result",
          "data": {
            "text/html": [
              "<div>\n",
              "<style scoped>\n",
              "    .dataframe tbody tr th:only-of-type {\n",
              "        vertical-align: middle;\n",
              "    }\n",
              "\n",
              "    .dataframe tbody tr th {\n",
              "        vertical-align: top;\n",
              "    }\n",
              "\n",
              "    .dataframe thead th {\n",
              "        text-align: right;\n",
              "    }\n",
              "</style>\n",
              "<table border=\"1\" class=\"dataframe\">\n",
              "  <thead>\n",
              "    <tr style=\"text-align: right;\">\n",
              "      <th></th>\n",
              "      <th>id</th>\n",
              "      <th>host_id</th>\n",
              "      <th>latitude</th>\n",
              "      <th>longitude</th>\n",
              "      <th>price</th>\n",
              "      <th>minimum_nights</th>\n",
              "      <th>number_of_reviews</th>\n",
              "      <th>reviews_per_month</th>\n",
              "      <th>calculated_host_listings_count</th>\n",
              "      <th>availability_365</th>\n",
              "    </tr>\n",
              "  </thead>\n",
              "  <tbody>\n",
              "    <tr>\n",
              "      <th>count</th>\n",
              "      <td>5.718000e+03</td>\n",
              "      <td>5.718000e+03</td>\n",
              "      <td>5718.000000</td>\n",
              "      <td>5718.000000</td>\n",
              "      <td>5718.000000</td>\n",
              "      <td>5718.000000</td>\n",
              "      <td>5718.000000</td>\n",
              "      <td>5718.000000</td>\n",
              "      <td>5718.000000</td>\n",
              "      <td>5718.000000</td>\n",
              "    </tr>\n",
              "    <tr>\n",
              "      <th>mean</th>\n",
              "      <td>3.033152e+07</td>\n",
              "      <td>1.056474e+08</td>\n",
              "      <td>50.838571</td>\n",
              "      <td>4.361439</td>\n",
              "      <td>83.652151</td>\n",
              "      <td>10.054215</td>\n",
              "      <td>33.890171</td>\n",
              "      <td>0.998541</td>\n",
              "      <td>7.185729</td>\n",
              "      <td>180.273872</td>\n",
              "    </tr>\n",
              "    <tr>\n",
              "      <th>std</th>\n",
              "      <td>1.542586e+07</td>\n",
              "      <td>1.180736e+08</td>\n",
              "      <td>0.018555</td>\n",
              "      <td>0.027471</td>\n",
              "      <td>144.053468</td>\n",
              "      <td>37.243069</td>\n",
              "      <td>67.936768</td>\n",
              "      <td>1.477502</td>\n",
              "      <td>15.618846</td>\n",
              "      <td>135.466496</td>\n",
              "    </tr>\n",
              "    <tr>\n",
              "      <th>min</th>\n",
              "      <td>2.352000e+03</td>\n",
              "      <td>2.582000e+03</td>\n",
              "      <td>50.774130</td>\n",
              "      <td>4.258890</td>\n",
              "      <td>0.000000</td>\n",
              "      <td>1.000000</td>\n",
              "      <td>0.000000</td>\n",
              "      <td>0.000000</td>\n",
              "      <td>1.000000</td>\n",
              "      <td>0.000000</td>\n",
              "    </tr>\n",
              "    <tr>\n",
              "      <th>25%</th>\n",
              "      <td>1.746350e+07</td>\n",
              "      <td>1.709387e+07</td>\n",
              "      <td>50.826930</td>\n",
              "      <td>4.345105</td>\n",
              "      <td>43.000000</td>\n",
              "      <td>1.000000</td>\n",
              "      <td>1.000000</td>\n",
              "      <td>0.060000</td>\n",
              "      <td>1.000000</td>\n",
              "      <td>49.000000</td>\n",
              "    </tr>\n",
              "    <tr>\n",
              "      <th>50%</th>\n",
              "      <td>3.384563e+07</td>\n",
              "      <td>4.609152e+07</td>\n",
              "      <td>50.838401</td>\n",
              "      <td>4.356425</td>\n",
              "      <td>60.000000</td>\n",
              "      <td>2.000000</td>\n",
              "      <td>7.000000</td>\n",
              "      <td>0.420000</td>\n",
              "      <td>1.000000</td>\n",
              "      <td>169.000000</td>\n",
              "    </tr>\n",
              "    <tr>\n",
              "      <th>75%</th>\n",
              "      <td>4.384281e+07</td>\n",
              "      <td>1.722988e+08</td>\n",
              "      <td>50.849720</td>\n",
              "      <td>4.377543</td>\n",
              "      <td>89.000000</td>\n",
              "      <td>4.000000</td>\n",
              "      <td>33.000000</td>\n",
              "      <td>1.260000</td>\n",
              "      <td>4.000000</td>\n",
              "      <td>327.000000</td>\n",
              "    </tr>\n",
              "    <tr>\n",
              "      <th>max</th>\n",
              "      <td>5.099906e+07</td>\n",
              "      <td>4.123949e+08</td>\n",
              "      <td>50.903680</td>\n",
              "      <td>4.467680</td>\n",
              "      <td>5000.000000</td>\n",
              "      <td>1125.000000</td>\n",
              "      <td>771.000000</td>\n",
              "      <td>12.240000</td>\n",
              "      <td>91.000000</td>\n",
              "      <td>365.000000</td>\n",
              "    </tr>\n",
              "  </tbody>\n",
              "</table>\n",
              "</div>"
            ],
            "text/plain": [
              "                 id  ...  availability_365\n",
              "count  5.718000e+03  ...       5718.000000\n",
              "mean   3.033152e+07  ...        180.273872\n",
              "std    1.542586e+07  ...        135.466496\n",
              "min    2.352000e+03  ...          0.000000\n",
              "25%    1.746350e+07  ...         49.000000\n",
              "50%    3.384563e+07  ...        169.000000\n",
              "75%    4.384281e+07  ...        327.000000\n",
              "max    5.099906e+07  ...        365.000000\n",
              "\n",
              "[8 rows x 10 columns]"
            ]
          },
          "metadata": {
            "tags": []
          },
          "execution_count": 76
        }
      ]
    },
    {
      "cell_type": "markdown",
      "metadata": {
        "id": "2mp4SZqJyFT2"
      },
      "source": [
        "Confirmando a análise anterior, percebe uma diferença significativa nas variáveis **price, minimum_nights, number_of_reviews e calculated_host_listings_count.**\n",
        "\n",
        "Importante realizarmos a exclusão dos outliers nestes casos para evitar problemas de viés na criação do modelo."
      ]
    },
    {
      "cell_type": "markdown",
      "metadata": {
        "id": "GUGNwLV1IyBO"
      },
      "source": [
        "### Aplicando tratamento de **outlier** na variável **price**\n",
        "\n",
        "\n",
        "\n",
        "\n",
        "\n"
      ]
    },
    {
      "cell_type": "code",
      "metadata": {
        "colab": {
          "base_uri": "https://localhost:8080/"
        },
        "id": "kin1d87eFn_v",
        "outputId": "9f775042-e73d-4857-a27d-fed987ebd43f"
      },
      "source": [
        "# identificando os outliers para a variável price\n",
        "q1_price = df.price.quantile(.25)\n",
        "q3_price = df.price.quantile(.75)\n",
        "IQR_price = q3_price - q1_price\n",
        "print('IQR da variável price: ', IQR_price)\n",
        "\n",
        "# definindo os limites                                       \n",
        "sup_price = q3_price + 1.5 * IQR_price\n",
        "inf_price = q1_price - 1.5 * IQR_price\n",
        "\n",
        "print('Limite superior de price: ', sup_price)\n",
        "print('Limite inferior de price: ', inf_price)"
      ],
      "execution_count": 77,
      "outputs": [
        {
          "output_type": "stream",
          "text": [
            "IQR da variável price:  46.0\n",
            "Limite superior de price:  158.0\n",
            "Limite inferior de price:  -26.0\n"
          ],
          "name": "stdout"
        }
      ]
    },
    {
      "cell_type": "code",
      "metadata": {
        "colab": {
          "base_uri": "https://localhost:8080/",
          "height": 262
        },
        "id": "sVwVKhXTyElh",
        "outputId": "c69a1100-92f2-44b3-f1bb-47905ce88e8d"
      },
      "source": [
        "df.price.plot(kind='box', vert=False, figsize=(15, 3))\n",
        "plt.show()\n",
        "\n",
        "# ver quantidade de valores acima de 30 dias para minimum_nights\n",
        "print(\"price: valores acima de {:,.4f}:\".format(sup_price))\n",
        "print(\"{} entradas\".format(len(df[df.price > sup_price])))\n",
        "print(\"{:.4f}%\".format((len(df[df.price > sup_price]) / df.shape[0])*100))"
      ],
      "execution_count": 78,
      "outputs": [
        {
          "output_type": "display_data",
          "data": {
            "image/png": "[encoded data removed]",
            "text/plain": [
              "<Figure size 1080x216 with 1 Axes>"
            ]
          },
          "metadata": {
            "tags": [],
            "needs_background": "light"
          }
        },
        {
          "output_type": "stream",
          "text": [
            "price: valores acima de 158.0000:\n",
            "426 entradas\n",
            "7.4502%\n"
          ],
          "name": "stdout"
        }
      ]
    },
    {
      "cell_type": "markdown",
      "metadata": {
        "id": "lCiyzdfGJKbl"
      },
      "source": [
        "### Aplicando tratamento de **outlier** na variável **minimum_nights**"
      ]
    },
    {
      "cell_type": "code",
      "metadata": {
        "colab": {
          "base_uri": "https://localhost:8080/"
        },
        "id": "M9GA31wVGxsO",
        "outputId": "5fbd1dc8-069b-47a4-8e57-e7660e8bac30"
      },
      "source": [
        "# identificando os outliers para a variável price\n",
        "q1_minimum_nights = df.minimum_nights.quantile(.25)\n",
        "q3_minimum_nights = df.minimum_nights.quantile(.75)\n",
        "IQR_minimum_nights = q3_minimum_nights - q1_minimum_nights\n",
        "print('IQR da variável minimum_nights: ', IQR_minimum_nights)\n",
        "\n",
        "# definindo os limites                                       \n",
        "sup_minimum_nights = q3_minimum_nights + 1.5 * IQR_minimum_nights\n",
        "inf_minimum_nights = q1_minimum_nights - 1.5 * IQR_minimum_nights\n",
        "\n",
        "print('Limite superior de price: ', sup_minimum_nights)\n",
        "print('Limite inferior de price: ', inf_minimum_nights)"
      ],
      "execution_count": 79,
      "outputs": [
        {
          "output_type": "stream",
          "text": [
            "IQR da variável minimum_nights:  3.0\n",
            "Limite superior de price:  8.5\n",
            "Limite inferior de price:  -3.5\n"
          ],
          "name": "stdout"
        }
      ]
    },
    {
      "cell_type": "code",
      "metadata": {
        "colab": {
          "base_uri": "https://localhost:8080/",
          "height": 262
        },
        "id": "z57TWjNOGxlE",
        "outputId": "55f90b7c-a6c2-48fe-f508-8398e692556a"
      },
      "source": [
        "df.minimum_nights.plot(kind='box', vert=False, figsize=(15, 3))\n",
        "plt.show()\n",
        "\n",
        "# ver quantidade de valores acima de 30 dias para minimum_nights\n",
        "print(\"minimum_nights: valores acima de {:,.4f}:\".format(sup_minimum_nights))\n",
        "print(\"{} entradas\".format(len(df[df.minimum_nights > sup_minimum_nights])))\n",
        "print(\"{:.4f}%\".format((len(df[df.minimum_nights > sup_minimum_nights]) / df.shape[0])*100))"
      ],
      "execution_count": 80,
      "outputs": [
        {
          "output_type": "display_data",
          "data": {
            "image/png": "[encoded data removed]",
            "text/plain": [
              "<Figure size 1080x216 with 1 Axes>"
            ]
          },
          "metadata": {
            "tags": [],
            "needs_background": "light"
          }
        },
        {
          "output_type": "stream",
          "text": [
            "minimum_nights: valores acima de 8.5000:\n",
            "775 entradas\n",
            "13.5537%\n"
          ],
          "name": "stdout"
        }
      ]
    },
    {
      "cell_type": "markdown",
      "metadata": {
        "id": "2wX1boi4JQoJ"
      },
      "source": [
        "### Aplicando tratamento de **outlier** na variável **number_of_reviews**"
      ]
    },
    {
      "cell_type": "code",
      "metadata": {
        "colab": {
          "base_uri": "https://localhost:8080/"
        },
        "id": "6QKA0jZWGxZA",
        "outputId": "6706fd64-313d-401c-9681-e1f0da7c743f"
      },
      "source": [
        "# identificando os outliers para a variável number_of_reviews\n",
        "q1_number_of_reviews = df.number_of_reviews.quantile(.25)\n",
        "q3_number_of_reviews = df.number_of_reviews.quantile(.75)\n",
        "IQR_number_of_reviews = q3_number_of_reviews - q1_number_of_reviews\n",
        "print('IQR da variável number_of_reviews: ', IQR_number_of_reviews)\n",
        "\n",
        "# definindo os limites                                       \n",
        "sup_number_of_reviews = q3_number_of_reviews + 1.5 * IQR_number_of_reviews\n",
        "inf_number_of_reviews = q1_number_of_reviews - 1.5 * IQR_number_of_reviews\n",
        "\n",
        "print('Limite superior de price: ', sup_number_of_reviews)\n",
        "print('Limite inferior de price: ', inf_number_of_reviews)"
      ],
      "execution_count": 81,
      "outputs": [
        {
          "output_type": "stream",
          "text": [
            "IQR da variável number_of_reviews:  32.0\n",
            "Limite superior de price:  81.0\n",
            "Limite inferior de price:  -47.0\n"
          ],
          "name": "stdout"
        }
      ]
    },
    {
      "cell_type": "code",
      "metadata": {
        "colab": {
          "base_uri": "https://localhost:8080/",
          "height": 262
        },
        "id": "WhYU2NKnH3T6",
        "outputId": "a38663e7-3835-4843-9191-6206bcbc9895"
      },
      "source": [
        "df.number_of_reviews.plot(kind='box', vert=False, figsize=(15, 3))\n",
        "plt.show()\n",
        "\n",
        "# ver quantidade de valores acima de 30 dias para minimum_nights\n",
        "print(\"number_of_reviews: valores acima de {:,.4f}:\".format(sup_number_of_reviews))\n",
        "print(\"{} entradas\".format(len(df[df.number_of_reviews > sup_number_of_reviews])))\n",
        "print(\"{:.4f}%\".format((len(df[df.number_of_reviews > sup_number_of_reviews]) / df.shape[0])*100))"
      ],
      "execution_count": 82,
      "outputs": [
        {
          "output_type": "display_data",
          "data": {
            "image/png": "[encoded data removed]",
            "text/plain": [
              "<Figure size 1080x216 with 1 Axes>"
            ]
          },
          "metadata": {
            "tags": [],
            "needs_background": "light"
          }
        },
        {
          "output_type": "stream",
          "text": [
            "number_of_reviews: valores acima de 81.0000:\n",
            "698 entradas\n",
            "12.2071%\n"
          ],
          "name": "stdout"
        }
      ]
    },
    {
      "cell_type": "markdown",
      "metadata": {
        "id": "V4aDNdzsJWvW"
      },
      "source": [
        "### Aplicando tratamento de **outlier** na variável **calculated_host_listings_count**"
      ]
    },
    {
      "cell_type": "code",
      "metadata": {
        "colab": {
          "base_uri": "https://localhost:8080/"
        },
        "id": "Y_A1mQXzIZxg",
        "outputId": "fff0d1de-759a-4b99-bb2e-cf0324bf1faf"
      },
      "source": [
        "# identificando os outliers para a variável calculated_host_listings_count\n",
        "q1_calculated_host_listings_count = df.calculated_host_listings_count.quantile(.25)\n",
        "q3_calculated_host_listings_count = df.calculated_host_listings_count.quantile(.75)\n",
        "IQR_calculated_host_listings_count = q3_calculated_host_listings_count - q1_calculated_host_listings_count\n",
        "print('IQR da variável calculated_host_listings_count: ', IQR_calculated_host_listings_count)\n",
        "\n",
        "# definindo os limites                                       \n",
        "sup_calculated_host_listings_count = q3_calculated_host_listings_count + 1.5 * IQR_calculated_host_listings_count\n",
        "inf_calculated_host_listings_count = q1_calculated_host_listings_count - 1.5 * IQR_calculated_host_listings_count\n",
        "\n",
        "print('Limite superior de price: ', sup_calculated_host_listings_count)\n",
        "print('Limite inferior de price: ', inf_calculated_host_listings_count)"
      ],
      "execution_count": 83,
      "outputs": [
        {
          "output_type": "stream",
          "text": [
            "IQR da variável calculated_host_listings_count:  3.0\n",
            "Limite superior de price:  8.5\n",
            "Limite inferior de price:  -3.5\n"
          ],
          "name": "stdout"
        }
      ]
    },
    {
      "cell_type": "code",
      "metadata": {
        "colab": {
          "base_uri": "https://localhost:8080/",
          "height": 262
        },
        "id": "zd7AVaNSIb2K",
        "outputId": "588064b4-4d3a-4e7d-da9c-ee3b31d34a2e"
      },
      "source": [
        "df.calculated_host_listings_count.plot(kind='box', vert=False, figsize=(15, 3))\n",
        "plt.show()\n",
        "\n",
        "# ver quantidade de valores acima de 30 dias para minimum_nights\n",
        "print(\"calculated_host_listings_count: valores acima de {:,.4f}:\".format(sup_calculated_host_listings_count))\n",
        "print(\"{} entradas\".format(len(df[df.calculated_host_listings_count > sup_calculated_host_listings_count])))\n",
        "print(\"{:.4f}%\".format((len(df[df.calculated_host_listings_count > sup_calculated_host_listings_count]) / df.shape[0])*100))"
      ],
      "execution_count": 84,
      "outputs": [
        {
          "output_type": "display_data",
          "data": {
            "image/png": "[encoded data removed]",
            "text/plain": [
              "<Figure size 1080x216 with 1 Axes>"
            ]
          },
          "metadata": {
            "tags": [],
            "needs_background": "light"
          }
        },
        {
          "output_type": "stream",
          "text": [
            "calculated_host_listings_count: valores acima de 8.5000:\n",
            "982 entradas\n",
            "17.1738%\n"
          ],
          "name": "stdout"
        }
      ]
    },
    {
      "cell_type": "code",
      "metadata": {
        "colab": {
          "base_uri": "https://localhost:8080/"
        },
        "id": "X5vQafn0Gm5M",
        "outputId": "baf972cf-7fd6-418c-e2fc-e70bca148488"
      },
      "source": [
        "# limpando o dataset\n",
        "df_clean = df.copy()\n",
        "\n",
        "df_clean.drop(df_clean[df_clean.price > sup_price].index, axis=0, inplace=True)\n",
        "df_clean.drop(df_clean[df_clean.price == 0.0].index, axis=0, inplace=True)\n",
        "df_clean.drop(df_clean[df_clean.minimum_nights > sup_minimum_nights].index, axis=0, inplace=True)\n",
        "df_clean.drop(df_clean[df_clean.number_of_reviews > sup_number_of_reviews].index, axis=0, inplace=True)\n",
        "df_clean.drop(df_clean[df_clean.calculated_host_listings_count > sup_calculated_host_listings_count].index, axis=0, inplace=True)\n",
        "\n",
        "\n",
        "print('Shape antes da limpeza: ', df.shape)\n",
        "print('Shape após a limpeza: ',df_clean.shape)\n",
        "print('Percentual de dados excluidos em relação ao total: {}'.format((1- df_clean.shape[0]/df.shape[0]) * 100))"
      ],
      "execution_count": 85,
      "outputs": [
        {
          "output_type": "stream",
          "text": [
            "Shape antes da limpeza:  (5718, 15)\n",
            "Shape após a limpeza:  (3348, 15)\n",
            "Percentual de dados excluidos em relação ao total: 41.44805876180483\n"
          ],
          "name": "stdout"
        }
      ]
    },
    {
      "cell_type": "markdown",
      "metadata": {
        "id": "dyxqnX9bKEQk"
      },
      "source": [
        ">Após a retirada dos outliers, percebemos que realizamos a exclusão de 41% do nosso dataframe, ou seja, o dataframe atual está com **3348** registros.\n",
        "\n",
        "* Abaixo, podemos verificar a mudança na distribuição das variáveis, indicando dados melhor distribuidos e por consequencia reduzindo algum viés.\n",
        "\n",
        "\n"
      ]
    },
    {
      "cell_type": "code",
      "metadata": {
        "colab": {
          "base_uri": "https://localhost:8080/",
          "height": 607
        },
        "id": "xJNruowjNhU7",
        "outputId": "7e580c06-9893-4dca-c4c1-fbadbde0770c"
      },
      "source": [
        "df_clean.hist(bins=15, figsize=(15,10));"
      ],
      "execution_count": 86,
      "outputs": [
        {
          "output_type": "display_data",
          "data": {
            "image/png": "[encoded data removed]",
            "text/plain": [
              "<Figure size 1080x720 with 12 Axes>"
            ]
          },
          "metadata": {
            "tags": [],
            "needs_background": "light"
          }
        }
      ]
    },
    {
      "cell_type": "code",
      "metadata": {
        "colab": {
          "base_uri": "https://localhost:8080/",
          "height": 317
        },
        "id": "XkL6i9vRNrGo",
        "outputId": "4ba2e2f2-dd49-41c4-ca21-a38183b49360"
      },
      "source": [
        "df_clean.describe()"
      ],
      "execution_count": 87,
      "outputs": [
        {
          "output_type": "execute_result",
          "data": {
            "text/html": [
              "<div>\n",
              "<style scoped>\n",
              "    .dataframe tbody tr th:only-of-type {\n",
              "        vertical-align: middle;\n",
              "    }\n",
              "\n",
              "    .dataframe tbody tr th {\n",
              "        vertical-align: top;\n",
              "    }\n",
              "\n",
              "    .dataframe thead th {\n",
              "        text-align: right;\n",
              "    }\n",
              "</style>\n",
              "<table border=\"1\" class=\"dataframe\">\n",
              "  <thead>\n",
              "    <tr style=\"text-align: right;\">\n",
              "      <th></th>\n",
              "      <th>id</th>\n",
              "      <th>host_id</th>\n",
              "      <th>latitude</th>\n",
              "      <th>longitude</th>\n",
              "      <th>price</th>\n",
              "      <th>minimum_nights</th>\n",
              "      <th>number_of_reviews</th>\n",
              "      <th>reviews_per_month</th>\n",
              "      <th>calculated_host_listings_count</th>\n",
              "      <th>availability_365</th>\n",
              "    </tr>\n",
              "  </thead>\n",
              "  <tbody>\n",
              "    <tr>\n",
              "      <th>count</th>\n",
              "      <td>3.348000e+03</td>\n",
              "      <td>3.348000e+03</td>\n",
              "      <td>3348.000000</td>\n",
              "      <td>3348.000000</td>\n",
              "      <td>3348.000000</td>\n",
              "      <td>3348.000000</td>\n",
              "      <td>3348.000000</td>\n",
              "      <td>3348.000000</td>\n",
              "      <td>3348.000000</td>\n",
              "      <td>3348.000000</td>\n",
              "    </tr>\n",
              "    <tr>\n",
              "      <th>mean</th>\n",
              "      <td>3.320195e+07</td>\n",
              "      <td>1.166670e+08</td>\n",
              "      <td>50.838159</td>\n",
              "      <td>4.361977</td>\n",
              "      <td>64.606631</td>\n",
              "      <td>2.523297</td>\n",
              "      <td>14.607228</td>\n",
              "      <td>0.717948</td>\n",
              "      <td>1.820789</td>\n",
              "      <td>165.244922</td>\n",
              "    </tr>\n",
              "    <tr>\n",
              "      <th>std</th>\n",
              "      <td>1.431703e+07</td>\n",
              "      <td>1.202636e+08</td>\n",
              "      <td>0.019915</td>\n",
              "      <td>0.029189</td>\n",
              "      <td>28.790388</td>\n",
              "      <td>1.636635</td>\n",
              "      <td>19.174139</td>\n",
              "      <td>1.026646</td>\n",
              "      <td>1.463476</td>\n",
              "      <td>135.795567</td>\n",
              "    </tr>\n",
              "    <tr>\n",
              "      <th>min</th>\n",
              "      <td>2.352000e+03</td>\n",
              "      <td>2.582000e+03</td>\n",
              "      <td>50.774130</td>\n",
              "      <td>4.262380</td>\n",
              "      <td>9.000000</td>\n",
              "      <td>1.000000</td>\n",
              "      <td>0.000000</td>\n",
              "      <td>0.000000</td>\n",
              "      <td>1.000000</td>\n",
              "      <td>0.000000</td>\n",
              "    </tr>\n",
              "    <tr>\n",
              "      <th>25%</th>\n",
              "      <td>2.329685e+07</td>\n",
              "      <td>2.001185e+07</td>\n",
              "      <td>50.825210</td>\n",
              "      <td>4.343203</td>\n",
              "      <td>43.000000</td>\n",
              "      <td>1.000000</td>\n",
              "      <td>1.000000</td>\n",
              "      <td>0.070000</td>\n",
              "      <td>1.000000</td>\n",
              "      <td>34.000000</td>\n",
              "    </tr>\n",
              "    <tr>\n",
              "      <th>50%</th>\n",
              "      <td>3.733630e+07</td>\n",
              "      <td>6.006088e+07</td>\n",
              "      <td>50.836660</td>\n",
              "      <td>4.357920</td>\n",
              "      <td>60.000000</td>\n",
              "      <td>2.000000</td>\n",
              "      <td>6.000000</td>\n",
              "      <td>0.370000</td>\n",
              "      <td>1.000000</td>\n",
              "      <td>148.000000</td>\n",
              "    </tr>\n",
              "    <tr>\n",
              "      <th>75%</th>\n",
              "      <td>4.452334e+07</td>\n",
              "      <td>1.996470e+08</td>\n",
              "      <td>50.850678</td>\n",
              "      <td>4.380275</td>\n",
              "      <td>80.000000</td>\n",
              "      <td>3.000000</td>\n",
              "      <td>21.000000</td>\n",
              "      <td>0.980000</td>\n",
              "      <td>2.000000</td>\n",
              "      <td>316.000000</td>\n",
              "    </tr>\n",
              "    <tr>\n",
              "      <th>max</th>\n",
              "      <td>5.099653e+07</td>\n",
              "      <td>4.123949e+08</td>\n",
              "      <td>50.903680</td>\n",
              "      <td>4.467680</td>\n",
              "      <td>158.000000</td>\n",
              "      <td>8.000000</td>\n",
              "      <td>81.000000</td>\n",
              "      <td>10.310000</td>\n",
              "      <td>8.000000</td>\n",
              "      <td>365.000000</td>\n",
              "    </tr>\n",
              "  </tbody>\n",
              "</table>\n",
              "</div>"
            ],
            "text/plain": [
              "                 id  ...  availability_365\n",
              "count  3.348000e+03  ...       3348.000000\n",
              "mean   3.320195e+07  ...        165.244922\n",
              "std    1.431703e+07  ...        135.795567\n",
              "min    2.352000e+03  ...          0.000000\n",
              "25%    2.329685e+07  ...         34.000000\n",
              "50%    3.733630e+07  ...        148.000000\n",
              "75%    4.452334e+07  ...        316.000000\n",
              "max    5.099653e+07  ...        365.000000\n",
              "\n",
              "[8 rows x 10 columns]"
            ]
          },
          "metadata": {
            "tags": []
          },
          "execution_count": 87
        }
      ]
    },
    {
      "cell_type": "code",
      "metadata": {
        "colab": {
          "base_uri": "https://localhost:8080/"
        },
        "id": "NgwwNR76O15y",
        "outputId": "e45f957d-ffd2-45c6-be6d-8cd02c15fc87"
      },
      "source": [
        "# identificando os outliers para a variável number_of_reviews\n",
        "q1_number_of_reviews = df_clean.number_of_reviews.quantile(.25)\n",
        "q3_number_of_reviews = df_clean.number_of_reviews.quantile(.75)\n",
        "IQR_number_of_reviews = q3_number_of_reviews - q1_number_of_reviews\n",
        "print('IQR da variável number_of_reviews: ', IQR_number_of_reviews)\n",
        "\n",
        "# definindo os limites                                       \n",
        "sup_number_of_reviews = q3_number_of_reviews + 1.5 * IQR_number_of_reviews\n",
        "inf_number_of_reviews = q1_number_of_reviews - 1.5 * IQR_number_of_reviews\n",
        "\n",
        "print('Limite superior de price: ', sup_number_of_reviews)\n",
        "print('Limite inferior de price: ', inf_number_of_reviews)"
      ],
      "execution_count": 88,
      "outputs": [
        {
          "output_type": "stream",
          "text": [
            "IQR da variável number_of_reviews:  20.0\n",
            "Limite superior de price:  51.0\n",
            "Limite inferior de price:  -29.0\n"
          ],
          "name": "stdout"
        }
      ]
    },
    {
      "cell_type": "code",
      "metadata": {
        "colab": {
          "base_uri": "https://localhost:8080/",
          "height": 262
        },
        "id": "Ktcg_eNeOS8G",
        "outputId": "00da7f67-daf5-48cd-fa9d-1b1e44041e44"
      },
      "source": [
        "df_clean.number_of_reviews.plot(kind='box', vert=False, figsize=(15, 3))\n",
        "plt.show()\n",
        "\n",
        "# ver quantidade de valores acima de 30 dias para minimum_nights\n",
        "print(\"number_of_reviews: valores acima de {:,.4f}:\".format(sup_number_of_reviews))\n",
        "print(\"{} entradas\".format(len(df_clean[df_clean.number_of_reviews > sup_number_of_reviews])))\n",
        "print(\"{:.4f}%\".format((len(df_clean[df_clean.number_of_reviews > sup_number_of_reviews]) / df_clean.shape[0])*100))"
      ],
      "execution_count": 89,
      "outputs": [
        {
          "output_type": "display_data",
          "data": {
            "image/png": "[encoded data removed]",
            "text/plain": [
              "<Figure size 1080x216 with 1 Axes>"
            ]
          },
          "metadata": {
            "tags": [],
            "needs_background": "light"
          }
        },
        {
          "output_type": "stream",
          "text": [
            "number_of_reviews: valores acima de 51.0000:\n",
            "239 entradas\n",
            "7.1386%\n"
          ],
          "name": "stdout"
        }
      ]
    },
    {
      "cell_type": "markdown",
      "metadata": {
        "id": "gHAPV1n5rJC7"
      },
      "source": [
        "Tabém é possível perceber através do gráfico acima, como os dados estão melhor distribídos e a média e a mediana bem mais próximas e um desvio padrão bem menor em relação ao dado anterior."
      ]
    },
    {
      "cell_type": "markdown",
      "metadata": {
        "id": "7x4aw1j5wNmn"
      },
      "source": [
        "### **Analisando os preços médio de alguel**\n",
        "\n",
        "Para analisar o preço médio fizemos uma comparação estatística dos dados sem a exclusão dos outliers com os dados após o tratamento dos outliers."
      ]
    },
    {
      "cell_type": "code",
      "metadata": {
        "colab": {
          "base_uri": "https://localhost:8080/"
        },
        "id": "ff-8gUahLk-C",
        "outputId": "0b48714f-0034-401c-e300-1f2a7e696378"
      },
      "source": [
        "# ver a média da coluna `price` anterior\n",
        "df.price.describe()"
      ],
      "execution_count": 90,
      "outputs": [
        {
          "output_type": "execute_result",
          "data": {
            "text/plain": [
              "count    5718.000000\n",
              "mean       83.652151\n",
              "std       144.053468\n",
              "min         0.000000\n",
              "25%        43.000000\n",
              "50%        60.000000\n",
              "75%        89.000000\n",
              "max      5000.000000\n",
              "Name: price, dtype: float64"
            ]
          },
          "metadata": {
            "tags": []
          },
          "execution_count": 90
        }
      ]
    },
    {
      "cell_type": "code",
      "metadata": {
        "colab": {
          "base_uri": "https://localhost:8080/"
        },
        "id": "An-9piBNKj69",
        "outputId": "aca3f022-8156-40f3-e004-d31ebcc3038e"
      },
      "source": [
        "# ver a média da coluna `price` posterior ao tratamento dos outliers\n",
        "df_clean.price.describe()"
      ],
      "execution_count": 91,
      "outputs": [
        {
          "output_type": "execute_result",
          "data": {
            "text/plain": [
              "count    3348.000000\n",
              "mean       64.606631\n",
              "std        28.790388\n",
              "min         9.000000\n",
              "25%        43.000000\n",
              "50%        60.000000\n",
              "75%        80.000000\n",
              "max       158.000000\n",
              "Name: price, dtype: float64"
            ]
          },
          "metadata": {
            "tags": []
          },
          "execution_count": 91
        }
      ]
    },
    {
      "cell_type": "markdown",
      "metadata": {
        "id": "EZ3U-3u1KqQ7"
      },
      "source": [
        "> Ao compararmos o valor médio antes da exclusão **(83.65)** dos outliers e após a exclusão **(64.60)** percebemos naturalmente um redução no valor da média, mas observando o desvio padrão, podemos perceber que a variação dos dados está bem menor do que o anterior. \n",
        "Podemos observar o histograma para entender melhor."
      ]
    },
    {
      "cell_type": "code",
      "metadata": {
        "colab": {
          "base_uri": "https://localhost:8080/",
          "height": 320
        },
        "id": "avw0QSG3KpJM",
        "outputId": "b85d05fa-bf5d-4fea-a41f-eec41f1f2aef"
      },
      "source": [
        "df.price.hist(bins=15,  figsize=(5,5), grid=False);"
      ],
      "execution_count": 92,
      "outputs": [
        {
          "output_type": "display_data",
          "data": {
            "image/png": "[encoded data removed]",
            "text/plain": [
              "<Figure size 360x360 with 1 Axes>"
            ]
          },
          "metadata": {
            "tags": [],
            "needs_background": "light"
          }
        }
      ]
    },
    {
      "cell_type": "markdown",
      "metadata": {
        "id": "fOdLQl-QsVLJ"
      },
      "source": [
        "* No histograma acima, percebe-se uma coluna muito superior as outras, demonstrando o valor máximo de 5000 como valor de diária. Outlier claro."
      ]
    },
    {
      "cell_type": "code",
      "metadata": {
        "colab": {
          "base_uri": "https://localhost:8080/",
          "height": 320
        },
        "id": "V4wuVDOQMDFu",
        "outputId": "4eea6713-e52a-49a2-dcce-66d5c8050661"
      },
      "source": [
        "df_clean.price.hist(bins=15, figsize=(5,5), grid=False);"
      ],
      "execution_count": 93,
      "outputs": [
        {
          "output_type": "display_data",
          "data": {
            "image/png": "[encoded data removed]",
            "text/plain": [
              "<Figure size 360x360 with 1 Axes>"
            ]
          },
          "metadata": {
            "tags": [],
            "needs_background": "light"
          }
        }
      ]
    },
    {
      "cell_type": "markdown",
      "metadata": {
        "id": "IXn2oIo5qx-w"
      },
      "source": [
        "### **Estudando as correlações**\n",
        "\n",
        "Em probabilidade e estatística, correlação, dependência ou associação é qualquer relação estatística (causal ou não causal) entre duas variáveis e correlação é qualquer relação dentro de uma ampla classe de relações estatísticas que envolva dependência entre duas variáveis. \n",
        "Por exemplo, a correlação entre a estatura dos pais e a estatura dos pais e dos filhos. Embora seja comumente denotada como a medida de relação entre duas variáveis aleatórias, **correlação não implica causalidade**. Em alguns casos, correlação não identifica dependência entre as variáveis. Em geral, há pares de variáveis que apresentam forte dependência estatística, mas que possuem correlação nula. Para este casos, são utilizadas outras medidas de dependência.\n",
        "\n",
        "Informalmente correlação é sinônimo de dependência. Formalmente variáveis são dependentes se não satisfizerem a propriedade matemática da independência probabilística. Em termos técnicos, correlação refere–se a qualquer um dos vários tipos específicos de relação entre os valores médios. Existem diferentes coeficientes de correlação para medir o grau de correlação. Um dos coeficientes de correlação mais conhecidos é o coeficiente de correlação de Pearson, obtido pela divisão da covariância de duas variáveis pelo produto dos seus desvios padrão e sensível a uma relação linear entre duas variáveis. Entretanto, há outros coeficientes de correlação mais robustos que o coeficiente de correlação de Pearson. Isto é, mais sensíveis às relações não lineares.\n",
        "\n",
        "*Fonte:* [Wikipedia](https://pt.wikipedia.org/wiki/Correla%C3%A7%C3%A3o)"
      ]
    },
    {
      "cell_type": "code",
      "metadata": {
        "colab": {
          "base_uri": "https://localhost:8080/"
        },
        "id": "zqBnTOJeyeWN",
        "outputId": "ee964924-53ee-4757-df68-6c847b49cfdd"
      },
      "source": [
        "df_clean.info()"
      ],
      "execution_count": 94,
      "outputs": [
        {
          "output_type": "stream",
          "text": [
            "<class 'pandas.core.frame.DataFrame'>\n",
            "Int64Index: 3348 entries, 0 to 5714\n",
            "Data columns (total 15 columns):\n",
            " #   Column                          Non-Null Count  Dtype  \n",
            "---  ------                          --------------  -----  \n",
            " 0   id                              3348 non-null   int64  \n",
            " 1   name                            3348 non-null   object \n",
            " 2   host_id                         3348 non-null   int64  \n",
            " 3   host_name                       3348 non-null   object \n",
            " 4   neighbourhood                   3348 non-null   object \n",
            " 5   latitude                        3348 non-null   float64\n",
            " 6   longitude                       3348 non-null   float64\n",
            " 7   room_type                       3348 non-null   object \n",
            " 8   price                           3348 non-null   int64  \n",
            " 9   minimum_nights                  3348 non-null   int64  \n",
            " 10  number_of_reviews               3348 non-null   int64  \n",
            " 11  last_review                     3348 non-null   object \n",
            " 12  reviews_per_month               3348 non-null   float64\n",
            " 13  calculated_host_listings_count  3348 non-null   int64  \n",
            " 14  availability_365                3348 non-null   int64  \n",
            "dtypes: float64(3), int64(7), object(5)\n",
            "memory usage: 418.5+ KB\n"
          ],
          "name": "stdout"
        }
      ]
    },
    {
      "cell_type": "markdown",
      "metadata": {
        "id": "KeFPjrhkzmdX"
      },
      "source": [
        "Para analisar a correlação, escolhemos somente as variáveis que de alguma maneira poderão contribuir para o modelo de ML. Dessa forma, variáveis com valores únicos, nomes e datas, não foram consideradas. As variáveis neighbourhood e room_type, por serem de grande relevancia, foram transformadas para números ordinais."
      ]
    },
    {
      "cell_type": "markdown",
      "metadata": {
        "id": "ehsdtwBJ4CXI"
      },
      "source": [
        "#### **Aplicando OrdinalEncoder**"
      ]
    },
    {
      "cell_type": "code",
      "metadata": {
        "id": "8hT20HTH3Vsz"
      },
      "source": [
        "enc = OrdinalEncoder()\n",
        "df_clean[[\"cat_neighbourhood\",\"cat_room_type\"]] = enc.fit_transform(df_clean[[\"neighbourhood\",\"room_type\"]])"
      ],
      "execution_count": 95,
      "outputs": []
    },
    {
      "cell_type": "code",
      "metadata": {
        "id": "x2ayzBajqxyd",
        "colab": {
          "base_uri": "https://localhost:8080/",
          "height": 379
        },
        "outputId": "b5511a5e-914a-416d-87a9-8af4ce8451f6"
      },
      "source": [
        "# criar uma matriz de correlação\n",
        "\n",
        "corr = df_clean[['price','cat_neighbourhood','latitude','longitude','cat_room_type', 'minimum_nights', 'number_of_reviews', 'reviews_per_month',\n",
        "    'calculated_host_listings_count', 'availability_365']].corr()\n",
        "\n",
        "display(corr)\n",
        "# mostrar a matriz de correlação\n"
      ],
      "execution_count": 96,
      "outputs": [
        {
          "output_type": "display_data",
          "data": {
            "text/html": [
              "<div>\n",
              "<style scoped>\n",
              "    .dataframe tbody tr th:only-of-type {\n",
              "        vertical-align: middle;\n",
              "    }\n",
              "\n",
              "    .dataframe tbody tr th {\n",
              "        vertical-align: top;\n",
              "    }\n",
              "\n",
              "    .dataframe thead th {\n",
              "        text-align: right;\n",
              "    }\n",
              "</style>\n",
              "<table border=\"1\" class=\"dataframe\">\n",
              "  <thead>\n",
              "    <tr style=\"text-align: right;\">\n",
              "      <th></th>\n",
              "      <th>price</th>\n",
              "      <th>cat_neighbourhood</th>\n",
              "      <th>latitude</th>\n",
              "      <th>longitude</th>\n",
              "      <th>cat_room_type</th>\n",
              "      <th>minimum_nights</th>\n",
              "      <th>number_of_reviews</th>\n",
              "      <th>reviews_per_month</th>\n",
              "      <th>calculated_host_listings_count</th>\n",
              "      <th>availability_365</th>\n",
              "    </tr>\n",
              "  </thead>\n",
              "  <tbody>\n",
              "    <tr>\n",
              "      <th>price</th>\n",
              "      <td>1.000000</td>\n",
              "      <td>-0.088803</td>\n",
              "      <td>0.006506</td>\n",
              "      <td>-0.019479</td>\n",
              "      <td>-0.418940</td>\n",
              "      <td>-0.011425</td>\n",
              "      <td>-0.036537</td>\n",
              "      <td>-0.063330</td>\n",
              "      <td>0.002652</td>\n",
              "      <td>0.093222</td>\n",
              "    </tr>\n",
              "    <tr>\n",
              "      <th>cat_neighbourhood</th>\n",
              "      <td>-0.088803</td>\n",
              "      <td>1.000000</td>\n",
              "      <td>-0.161977</td>\n",
              "      <td>0.277439</td>\n",
              "      <td>0.024871</td>\n",
              "      <td>0.046990</td>\n",
              "      <td>-0.028956</td>\n",
              "      <td>-0.062534</td>\n",
              "      <td>-0.074960</td>\n",
              "      <td>-0.005859</td>\n",
              "    </tr>\n",
              "    <tr>\n",
              "      <th>latitude</th>\n",
              "      <td>0.006506</td>\n",
              "      <td>-0.161977</td>\n",
              "      <td>1.000000</td>\n",
              "      <td>-0.013250</td>\n",
              "      <td>0.008935</td>\n",
              "      <td>-0.072541</td>\n",
              "      <td>0.016943</td>\n",
              "      <td>0.061017</td>\n",
              "      <td>0.053832</td>\n",
              "      <td>0.063395</td>\n",
              "    </tr>\n",
              "    <tr>\n",
              "      <th>longitude</th>\n",
              "      <td>-0.019479</td>\n",
              "      <td>0.277439</td>\n",
              "      <td>-0.013250</td>\n",
              "      <td>1.000000</td>\n",
              "      <td>0.008766</td>\n",
              "      <td>0.057440</td>\n",
              "      <td>-0.017248</td>\n",
              "      <td>-0.011724</td>\n",
              "      <td>-0.037052</td>\n",
              "      <td>-0.010419</td>\n",
              "    </tr>\n",
              "    <tr>\n",
              "      <th>cat_room_type</th>\n",
              "      <td>-0.418940</td>\n",
              "      <td>0.024871</td>\n",
              "      <td>0.008935</td>\n",
              "      <td>0.008766</td>\n",
              "      <td>1.000000</td>\n",
              "      <td>-0.203692</td>\n",
              "      <td>-0.017884</td>\n",
              "      <td>-0.095680</td>\n",
              "      <td>0.171495</td>\n",
              "      <td>0.097769</td>\n",
              "    </tr>\n",
              "    <tr>\n",
              "      <th>minimum_nights</th>\n",
              "      <td>-0.011425</td>\n",
              "      <td>0.046990</td>\n",
              "      <td>-0.072541</td>\n",
              "      <td>0.057440</td>\n",
              "      <td>-0.203692</td>\n",
              "      <td>1.000000</td>\n",
              "      <td>-0.083230</td>\n",
              "      <td>-0.173246</td>\n",
              "      <td>-0.104785</td>\n",
              "      <td>-0.088972</td>\n",
              "    </tr>\n",
              "    <tr>\n",
              "      <th>number_of_reviews</th>\n",
              "      <td>-0.036537</td>\n",
              "      <td>-0.028956</td>\n",
              "      <td>0.016943</td>\n",
              "      <td>-0.017248</td>\n",
              "      <td>-0.017884</td>\n",
              "      <td>-0.083230</td>\n",
              "      <td>1.000000</td>\n",
              "      <td>0.438816</td>\n",
              "      <td>0.086088</td>\n",
              "      <td>0.004343</td>\n",
              "    </tr>\n",
              "    <tr>\n",
              "      <th>reviews_per_month</th>\n",
              "      <td>-0.063330</td>\n",
              "      <td>-0.062534</td>\n",
              "      <td>0.061017</td>\n",
              "      <td>-0.011724</td>\n",
              "      <td>-0.095680</td>\n",
              "      <td>-0.173246</td>\n",
              "      <td>0.438816</td>\n",
              "      <td>1.000000</td>\n",
              "      <td>0.124082</td>\n",
              "      <td>-0.033894</td>\n",
              "    </tr>\n",
              "    <tr>\n",
              "      <th>calculated_host_listings_count</th>\n",
              "      <td>0.002652</td>\n",
              "      <td>-0.074960</td>\n",
              "      <td>0.053832</td>\n",
              "      <td>-0.037052</td>\n",
              "      <td>0.171495</td>\n",
              "      <td>-0.104785</td>\n",
              "      <td>0.086088</td>\n",
              "      <td>0.124082</td>\n",
              "      <td>1.000000</td>\n",
              "      <td>0.109161</td>\n",
              "    </tr>\n",
              "    <tr>\n",
              "      <th>availability_365</th>\n",
              "      <td>0.093222</td>\n",
              "      <td>-0.005859</td>\n",
              "      <td>0.063395</td>\n",
              "      <td>-0.010419</td>\n",
              "      <td>0.097769</td>\n",
              "      <td>-0.088972</td>\n",
              "      <td>0.004343</td>\n",
              "      <td>-0.033894</td>\n",
              "      <td>0.109161</td>\n",
              "      <td>1.000000</td>\n",
              "    </tr>\n",
              "  </tbody>\n",
              "</table>\n",
              "</div>"
            ],
            "text/plain": [
              "                                   price  ...  availability_365\n",
              "price                           1.000000  ...          0.093222\n",
              "cat_neighbourhood              -0.088803  ...         -0.005859\n",
              "latitude                        0.006506  ...          0.063395\n",
              "longitude                      -0.019479  ...         -0.010419\n",
              "cat_room_type                  -0.418940  ...          0.097769\n",
              "minimum_nights                 -0.011425  ...         -0.088972\n",
              "number_of_reviews              -0.036537  ...          0.004343\n",
              "reviews_per_month              -0.063330  ...         -0.033894\n",
              "calculated_host_listings_count  0.002652  ...          0.109161\n",
              "availability_365                0.093222  ...          1.000000\n",
              "\n",
              "[10 rows x 10 columns]"
            ]
          },
          "metadata": {
            "tags": []
          }
        }
      ]
    },
    {
      "cell_type": "code",
      "metadata": {
        "id": "91UujDr6ueqE",
        "colab": {
          "base_uri": "https://localhost:8080/",
          "height": 689
        },
        "outputId": "753e9fc3-3d41-4bce-9645-ccb506bd4776"
      },
      "source": [
        "# heatmap a partir das correlações\n",
        "\n",
        "fig, ax = plt.subplots(figsize=(10,10))         # Sample figsize in inches\n",
        "sns.heatmap(corr, cmap='RdBu', fmt='.2f', square=True, linecolor='white', annot=True, ax=ax);\n"
      ],
      "execution_count": 97,
      "outputs": [
        {
          "output_type": "display_data",
          "data": {
            "image/png": "[encoded data removed]",
            "text/plain": [
              "<Figure size 720x720 with 2 Axes>"
            ]
          },
          "metadata": {
            "tags": [],
            "needs_background": "light"
          }
        }
      ]
    },
    {
      "cell_type": "markdown",
      "metadata": {
        "id": "BkNA5U194-ML"
      },
      "source": [
        "Ao analisar essas correlações percebi um possível erro ao colocar os dados da variável \"room_type\" como ordinais, pois ocorreu um peso negativo e sem uma lógica aparente em relação ao Preço. Irei transformar essas duas variaveis como binárias (dummies) e executar a correlação novamente.\n",
        "\n",
        "Como as correlações da latitude e longitude não apresentaram uma boa performance, resolvi tentar gerar uma variável unica a partir das duas. Multiplicamos uma pela outra para tentar obter um melhor resultado.\n"
      ]
    },
    {
      "cell_type": "code",
      "metadata": {
        "id": "I4WMUVUZ6dPN"
      },
      "source": [
        "df_clean.drop(['cat_neighbourhood','cat_room_type'],axis=1,inplace=True)\n",
        "\n",
        "nominal = ['neighbourhood','room_type']\n",
        "\n",
        "dum = dummie(nominal,df_clean)"
      ],
      "execution_count": 98,
      "outputs": []
    },
    {
      "cell_type": "code",
      "metadata": {
        "colab": {
          "base_uri": "https://localhost:8080/",
          "height": 241
        },
        "id": "0wGeiDSF8UrN",
        "outputId": "5ad1cbf8-b8f9-4ab9-c721-193b2840f3e8"
      },
      "source": [
        "dum.head()"
      ],
      "execution_count": 99,
      "outputs": [
        {
          "output_type": "execute_result",
          "data": {
            "text/html": [
              "<div>\n",
              "<style scoped>\n",
              "    .dataframe tbody tr th:only-of-type {\n",
              "        vertical-align: middle;\n",
              "    }\n",
              "\n",
              "    .dataframe tbody tr th {\n",
              "        vertical-align: top;\n",
              "    }\n",
              "\n",
              "    .dataframe thead th {\n",
              "        text-align: right;\n",
              "    }\n",
              "</style>\n",
              "<table border=\"1\" class=\"dataframe\">\n",
              "  <thead>\n",
              "    <tr style=\"text-align: right;\">\n",
              "      <th></th>\n",
              "      <th>neighbourhood_Anderlecht</th>\n",
              "      <th>neighbourhood_Auderghem</th>\n",
              "      <th>neighbourhood_Berchem-Sainte-Agathe</th>\n",
              "      <th>neighbourhood_Bruxelles</th>\n",
              "      <th>neighbourhood_Etterbeek</th>\n",
              "      <th>neighbourhood_Evere</th>\n",
              "      <th>neighbourhood_Forest</th>\n",
              "      <th>neighbourhood_Ganshoren</th>\n",
              "      <th>neighbourhood_Ixelles</th>\n",
              "      <th>neighbourhood_Jette</th>\n",
              "      <th>neighbourhood_Koekelberg</th>\n",
              "      <th>neighbourhood_Molenbeek-Saint-Jean</th>\n",
              "      <th>neighbourhood_Saint-Gilles</th>\n",
              "      <th>neighbourhood_Saint-Josse-ten-Noode</th>\n",
              "      <th>neighbourhood_Schaerbeek</th>\n",
              "      <th>neighbourhood_Uccle</th>\n",
              "      <th>neighbourhood_Watermael-Boitsfort</th>\n",
              "      <th>neighbourhood_Woluwe-Saint-Lambert</th>\n",
              "      <th>neighbourhood_Woluwe-Saint-Pierre</th>\n",
              "      <th>room_type_Entire home/apt</th>\n",
              "      <th>room_type_Hotel room</th>\n",
              "      <th>room_type_Private room</th>\n",
              "      <th>room_type_Shared room</th>\n",
              "    </tr>\n",
              "  </thead>\n",
              "  <tbody>\n",
              "    <tr>\n",
              "      <th>0</th>\n",
              "      <td>0</td>\n",
              "      <td>0</td>\n",
              "      <td>0</td>\n",
              "      <td>0</td>\n",
              "      <td>0</td>\n",
              "      <td>0</td>\n",
              "      <td>0</td>\n",
              "      <td>0</td>\n",
              "      <td>0</td>\n",
              "      <td>0</td>\n",
              "      <td>0</td>\n",
              "      <td>1</td>\n",
              "      <td>0</td>\n",
              "      <td>0</td>\n",
              "      <td>0</td>\n",
              "      <td>0</td>\n",
              "      <td>0</td>\n",
              "      <td>0</td>\n",
              "      <td>0</td>\n",
              "      <td>1</td>\n",
              "      <td>0</td>\n",
              "      <td>0</td>\n",
              "      <td>0</td>\n",
              "    </tr>\n",
              "    <tr>\n",
              "      <th>1</th>\n",
              "      <td>0</td>\n",
              "      <td>0</td>\n",
              "      <td>0</td>\n",
              "      <td>0</td>\n",
              "      <td>0</td>\n",
              "      <td>0</td>\n",
              "      <td>0</td>\n",
              "      <td>0</td>\n",
              "      <td>0</td>\n",
              "      <td>0</td>\n",
              "      <td>0</td>\n",
              "      <td>1</td>\n",
              "      <td>0</td>\n",
              "      <td>0</td>\n",
              "      <td>0</td>\n",
              "      <td>0</td>\n",
              "      <td>0</td>\n",
              "      <td>0</td>\n",
              "      <td>0</td>\n",
              "      <td>1</td>\n",
              "      <td>0</td>\n",
              "      <td>0</td>\n",
              "      <td>0</td>\n",
              "    </tr>\n",
              "    <tr>\n",
              "      <th>2</th>\n",
              "      <td>0</td>\n",
              "      <td>0</td>\n",
              "      <td>0</td>\n",
              "      <td>1</td>\n",
              "      <td>0</td>\n",
              "      <td>0</td>\n",
              "      <td>0</td>\n",
              "      <td>0</td>\n",
              "      <td>0</td>\n",
              "      <td>0</td>\n",
              "      <td>0</td>\n",
              "      <td>0</td>\n",
              "      <td>0</td>\n",
              "      <td>0</td>\n",
              "      <td>0</td>\n",
              "      <td>0</td>\n",
              "      <td>0</td>\n",
              "      <td>0</td>\n",
              "      <td>0</td>\n",
              "      <td>0</td>\n",
              "      <td>1</td>\n",
              "      <td>0</td>\n",
              "      <td>0</td>\n",
              "    </tr>\n",
              "    <tr>\n",
              "      <th>11</th>\n",
              "      <td>0</td>\n",
              "      <td>0</td>\n",
              "      <td>0</td>\n",
              "      <td>0</td>\n",
              "      <td>0</td>\n",
              "      <td>0</td>\n",
              "      <td>0</td>\n",
              "      <td>0</td>\n",
              "      <td>0</td>\n",
              "      <td>0</td>\n",
              "      <td>0</td>\n",
              "      <td>0</td>\n",
              "      <td>0</td>\n",
              "      <td>0</td>\n",
              "      <td>1</td>\n",
              "      <td>0</td>\n",
              "      <td>0</td>\n",
              "      <td>0</td>\n",
              "      <td>0</td>\n",
              "      <td>0</td>\n",
              "      <td>1</td>\n",
              "      <td>0</td>\n",
              "      <td>0</td>\n",
              "    </tr>\n",
              "    <tr>\n",
              "      <th>12</th>\n",
              "      <td>0</td>\n",
              "      <td>0</td>\n",
              "      <td>0</td>\n",
              "      <td>0</td>\n",
              "      <td>0</td>\n",
              "      <td>0</td>\n",
              "      <td>0</td>\n",
              "      <td>0</td>\n",
              "      <td>0</td>\n",
              "      <td>0</td>\n",
              "      <td>0</td>\n",
              "      <td>0</td>\n",
              "      <td>0</td>\n",
              "      <td>0</td>\n",
              "      <td>0</td>\n",
              "      <td>1</td>\n",
              "      <td>0</td>\n",
              "      <td>0</td>\n",
              "      <td>0</td>\n",
              "      <td>0</td>\n",
              "      <td>0</td>\n",
              "      <td>1</td>\n",
              "      <td>0</td>\n",
              "    </tr>\n",
              "  </tbody>\n",
              "</table>\n",
              "</div>"
            ],
            "text/plain": [
              "    neighbourhood_Anderlecht  ...  room_type_Shared room\n",
              "0                          0  ...                      0\n",
              "1                          0  ...                      0\n",
              "2                          0  ...                      0\n",
              "11                         0  ...                      0\n",
              "12                         0  ...                      0\n",
              "\n",
              "[5 rows x 23 columns]"
            ]
          },
          "metadata": {
            "tags": []
          },
          "execution_count": 99
        }
      ]
    },
    {
      "cell_type": "code",
      "metadata": {
        "colab": {
          "base_uri": "https://localhost:8080/"
        },
        "id": "94pyBgGSvQlJ",
        "outputId": "ecde60cd-3389-4fc1-c86e-786b28e70c27"
      },
      "source": [
        "columns"
      ],
      "execution_count": 100,
      "outputs": [
        {
          "output_type": "execute_result",
          "data": {
            "text/plain": [
              "{'availability_365',\n",
              " 'calculated_host_listings_count',\n",
              " 'latitude',\n",
              " 'longitude',\n",
              " 'minimum_nights',\n",
              " 'number_of_reviews',\n",
              " 'price',\n",
              " 'reviews_per_month'}"
            ]
          },
          "metadata": {
            "tags": []
          },
          "execution_count": 100
        }
      ]
    },
    {
      "cell_type": "code",
      "metadata": {
        "id": "oPRqhmKz8vPZ",
        "colab": {
          "base_uri": "https://localhost:8080/"
        },
        "outputId": "8480b076-fcb4-4c77-a252-569c5db1e3d2"
      },
      "source": [
        "# Separa somente as colunas do dataframe original que serão necessárias para o novo Dataframe\n",
        "col = ['price','latitude','longitude','minimum_nights', 'number_of_reviews', 'reviews_per_month',\n",
        "    'calculated_host_listings_count', 'availability_365']\n",
        "\n",
        "columns = set(col) - set(nominal)\n",
        "\n",
        "columns\n"
      ],
      "execution_count": 101,
      "outputs": [
        {
          "output_type": "execute_result",
          "data": {
            "text/plain": [
              "{'availability_365',\n",
              " 'calculated_host_listings_count',\n",
              " 'latitude',\n",
              " 'longitude',\n",
              " 'minimum_nights',\n",
              " 'number_of_reviews',\n",
              " 'price',\n",
              " 'reviews_per_month'}"
            ]
          },
          "metadata": {
            "tags": []
          },
          "execution_count": 101
        }
      ]
    },
    {
      "cell_type": "code",
      "metadata": {
        "colab": {
          "base_uri": "https://localhost:8080/",
          "height": 241
        },
        "id": "3egS-ysEvi5r",
        "outputId": "17d131ac-fe6a-4319-9ad2-ba8e6a29ccef"
      },
      "source": [
        "dfCorr = pd.concat([df_clean[columns],dum], axis=1)\n",
        "\n",
        "dfCorr.head()"
      ],
      "execution_count": 102,
      "outputs": [
        {
          "output_type": "execute_result",
          "data": {
            "text/html": [
              "<div>\n",
              "<style scoped>\n",
              "    .dataframe tbody tr th:only-of-type {\n",
              "        vertical-align: middle;\n",
              "    }\n",
              "\n",
              "    .dataframe tbody tr th {\n",
              "        vertical-align: top;\n",
              "    }\n",
              "\n",
              "    .dataframe thead th {\n",
              "        text-align: right;\n",
              "    }\n",
              "</style>\n",
              "<table border=\"1\" class=\"dataframe\">\n",
              "  <thead>\n",
              "    <tr style=\"text-align: right;\">\n",
              "      <th></th>\n",
              "      <th>latitude</th>\n",
              "      <th>number_of_reviews</th>\n",
              "      <th>price</th>\n",
              "      <th>availability_365</th>\n",
              "      <th>minimum_nights</th>\n",
              "      <th>reviews_per_month</th>\n",
              "      <th>longitude</th>\n",
              "      <th>calculated_host_listings_count</th>\n",
              "      <th>neighbourhood_Anderlecht</th>\n",
              "      <th>neighbourhood_Auderghem</th>\n",
              "      <th>neighbourhood_Berchem-Sainte-Agathe</th>\n",
              "      <th>neighbourhood_Bruxelles</th>\n",
              "      <th>neighbourhood_Etterbeek</th>\n",
              "      <th>neighbourhood_Evere</th>\n",
              "      <th>neighbourhood_Forest</th>\n",
              "      <th>neighbourhood_Ganshoren</th>\n",
              "      <th>neighbourhood_Ixelles</th>\n",
              "      <th>neighbourhood_Jette</th>\n",
              "      <th>neighbourhood_Koekelberg</th>\n",
              "      <th>neighbourhood_Molenbeek-Saint-Jean</th>\n",
              "      <th>neighbourhood_Saint-Gilles</th>\n",
              "      <th>neighbourhood_Saint-Josse-ten-Noode</th>\n",
              "      <th>neighbourhood_Schaerbeek</th>\n",
              "      <th>neighbourhood_Uccle</th>\n",
              "      <th>neighbourhood_Watermael-Boitsfort</th>\n",
              "      <th>neighbourhood_Woluwe-Saint-Lambert</th>\n",
              "      <th>neighbourhood_Woluwe-Saint-Pierre</th>\n",
              "      <th>room_type_Entire home/apt</th>\n",
              "      <th>room_type_Hotel room</th>\n",
              "      <th>room_type_Private room</th>\n",
              "      <th>room_type_Shared room</th>\n",
              "    </tr>\n",
              "  </thead>\n",
              "  <tbody>\n",
              "    <tr>\n",
              "      <th>0</th>\n",
              "      <td>50.85702</td>\n",
              "      <td>16</td>\n",
              "      <td>90</td>\n",
              "      <td>264</td>\n",
              "      <td>2</td>\n",
              "      <td>0.19</td>\n",
              "      <td>4.30771</td>\n",
              "      <td>2</td>\n",
              "      <td>0</td>\n",
              "      <td>0</td>\n",
              "      <td>0</td>\n",
              "      <td>0</td>\n",
              "      <td>0</td>\n",
              "      <td>0</td>\n",
              "      <td>0</td>\n",
              "      <td>0</td>\n",
              "      <td>0</td>\n",
              "      <td>0</td>\n",
              "      <td>0</td>\n",
              "      <td>1</td>\n",
              "      <td>0</td>\n",
              "      <td>0</td>\n",
              "      <td>0</td>\n",
              "      <td>0</td>\n",
              "      <td>0</td>\n",
              "      <td>0</td>\n",
              "      <td>0</td>\n",
              "      <td>1</td>\n",
              "      <td>0</td>\n",
              "      <td>0</td>\n",
              "      <td>0</td>\n",
              "    </tr>\n",
              "    <tr>\n",
              "      <th>1</th>\n",
              "      <td>50.85709</td>\n",
              "      <td>2</td>\n",
              "      <td>74</td>\n",
              "      <td>363</td>\n",
              "      <td>2</td>\n",
              "      <td>0.03</td>\n",
              "      <td>4.30757</td>\n",
              "      <td>2</td>\n",
              "      <td>0</td>\n",
              "      <td>0</td>\n",
              "      <td>0</td>\n",
              "      <td>0</td>\n",
              "      <td>0</td>\n",
              "      <td>0</td>\n",
              "      <td>0</td>\n",
              "      <td>0</td>\n",
              "      <td>0</td>\n",
              "      <td>0</td>\n",
              "      <td>0</td>\n",
              "      <td>1</td>\n",
              "      <td>0</td>\n",
              "      <td>0</td>\n",
              "      <td>0</td>\n",
              "      <td>0</td>\n",
              "      <td>0</td>\n",
              "      <td>0</td>\n",
              "      <td>0</td>\n",
              "      <td>1</td>\n",
              "      <td>0</td>\n",
              "      <td>0</td>\n",
              "      <td>0</td>\n",
              "    </tr>\n",
              "    <tr>\n",
              "      <th>2</th>\n",
              "      <td>50.85182</td>\n",
              "      <td>3</td>\n",
              "      <td>91</td>\n",
              "      <td>338</td>\n",
              "      <td>1</td>\n",
              "      <td>0.11</td>\n",
              "      <td>4.36809</td>\n",
              "      <td>2</td>\n",
              "      <td>0</td>\n",
              "      <td>0</td>\n",
              "      <td>0</td>\n",
              "      <td>1</td>\n",
              "      <td>0</td>\n",
              "      <td>0</td>\n",
              "      <td>0</td>\n",
              "      <td>0</td>\n",
              "      <td>0</td>\n",
              "      <td>0</td>\n",
              "      <td>0</td>\n",
              "      <td>0</td>\n",
              "      <td>0</td>\n",
              "      <td>0</td>\n",
              "      <td>0</td>\n",
              "      <td>0</td>\n",
              "      <td>0</td>\n",
              "      <td>0</td>\n",
              "      <td>0</td>\n",
              "      <td>0</td>\n",
              "      <td>1</td>\n",
              "      <td>0</td>\n",
              "      <td>0</td>\n",
              "    </tr>\n",
              "    <tr>\n",
              "      <th>11</th>\n",
              "      <td>50.87048</td>\n",
              "      <td>3</td>\n",
              "      <td>95</td>\n",
              "      <td>309</td>\n",
              "      <td>2</td>\n",
              "      <td>0.04</td>\n",
              "      <td>4.37904</td>\n",
              "      <td>2</td>\n",
              "      <td>0</td>\n",
              "      <td>0</td>\n",
              "      <td>0</td>\n",
              "      <td>0</td>\n",
              "      <td>0</td>\n",
              "      <td>0</td>\n",
              "      <td>0</td>\n",
              "      <td>0</td>\n",
              "      <td>0</td>\n",
              "      <td>0</td>\n",
              "      <td>0</td>\n",
              "      <td>0</td>\n",
              "      <td>0</td>\n",
              "      <td>0</td>\n",
              "      <td>1</td>\n",
              "      <td>0</td>\n",
              "      <td>0</td>\n",
              "      <td>0</td>\n",
              "      <td>0</td>\n",
              "      <td>0</td>\n",
              "      <td>1</td>\n",
              "      <td>0</td>\n",
              "      <td>0</td>\n",
              "    </tr>\n",
              "    <tr>\n",
              "      <th>12</th>\n",
              "      <td>50.80688</td>\n",
              "      <td>2</td>\n",
              "      <td>75</td>\n",
              "      <td>177</td>\n",
              "      <td>7</td>\n",
              "      <td>0.09</td>\n",
              "      <td>4.33337</td>\n",
              "      <td>2</td>\n",
              "      <td>0</td>\n",
              "      <td>0</td>\n",
              "      <td>0</td>\n",
              "      <td>0</td>\n",
              "      <td>0</td>\n",
              "      <td>0</td>\n",
              "      <td>0</td>\n",
              "      <td>0</td>\n",
              "      <td>0</td>\n",
              "      <td>0</td>\n",
              "      <td>0</td>\n",
              "      <td>0</td>\n",
              "      <td>0</td>\n",
              "      <td>0</td>\n",
              "      <td>0</td>\n",
              "      <td>1</td>\n",
              "      <td>0</td>\n",
              "      <td>0</td>\n",
              "      <td>0</td>\n",
              "      <td>0</td>\n",
              "      <td>0</td>\n",
              "      <td>1</td>\n",
              "      <td>0</td>\n",
              "    </tr>\n",
              "  </tbody>\n",
              "</table>\n",
              "</div>"
            ],
            "text/plain": [
              "    latitude  number_of_reviews  ...  room_type_Private room  room_type_Shared room\n",
              "0   50.85702                 16  ...                       0                      0\n",
              "1   50.85709                  2  ...                       0                      0\n",
              "2   50.85182                  3  ...                       0                      0\n",
              "11  50.87048                  3  ...                       0                      0\n",
              "12  50.80688                  2  ...                       1                      0\n",
              "\n",
              "[5 rows x 31 columns]"
            ]
          },
          "metadata": {
            "tags": []
          },
          "execution_count": 102
        }
      ]
    },
    {
      "cell_type": "code",
      "metadata": {
        "colab": {
          "base_uri": "https://localhost:8080/",
          "height": 1000
        },
        "id": "0cBY8pwv-xiW",
        "outputId": "6df6c7c8-26e7-4af5-d535-e12bb6ca3a21"
      },
      "source": [
        "# plotar um heatmap a partir das correlações\n",
        "\n",
        "fig, ax = plt.subplots(figsize=(30,20))         # Sample figsize in inches\n",
        "sns.heatmap(dfCorr, cmap='RdBu', fmt='.2f', square=True, linecolor='white', annot=True, ax=ax);"
      ],
      "execution_count": 103,
      "outputs": [
        {
          "output_type": "display_data",
          "data": {
            "image/png": "[encoded data removed]",
            "text/plain": [
              "<Figure size 2160x1440 with 2 Axes>"
            ]
          },
          "metadata": {
            "tags": [],
            "needs_background": "light"
          }
        }
      ]
    },
    {
      "cell_type": "markdown",
      "metadata": {
        "id": "fDa3jdH3AZeR"
      },
      "source": [
        "**Multicolinearidade** consiste em um problema comum em regressões, no qual as variáveis independentes possuem relações lineares exatas ou aproximadamente exatas. O índício mais claro da existência da multicolinearidade é quando o R² é bastante alto, mas nenhum dos coeficientes da regressão é estatisticamente significativo segundo a estatística t convencional. As consequências da multicolinearidade em uma regressão são a de erros-padrão elevados no caso de multicolinearidade moderada ou severa e até mesmo a impossibilidade de qualquer estimação se a multicolinearidade for perfeita.\n",
        "\n",
        "Fonte: [Wikipedia](https://pt.wikipedia.org/wiki/Multicolinearidade)\n",
        "\n",
        "Neste Caso, encontramos algumas ***possíveis*** multicolinearidades como:\n",
        "* room_type_Priveite_room com room_type_entire home/apt;\n",
        "* Reviews_per_month com number_of_revies;\n",
        "\n",
        "É necessário tratar as multicolinearidades para evitar problemas de overfiting nos modelos de machine learning."
      ]
    },
    {
      "cell_type": "markdown",
      "metadata": {
        "id": "7b6RMWpuHKN-"
      },
      "source": [
        "### **Analisando os imóveis disponíveis no Airbnb?**\n",
        "\n",
        "Para estudar os imóveis disponíveis, utilizamos o cruzamento dos tipos de imóvel disponíveis com a quantidade de anuncios. Também analisamos de acordo com a disponibilidade dos imóveis nos próximos 365 dias, pensando que quanto mais um imóvel tem disponibilidade, menos aquele tipo é requisitado. \n"
      ]
    },
    {
      "cell_type": "code",
      "metadata": {
        "id": "ueLPNWvPHgfB",
        "colab": {
          "base_uri": "https://localhost:8080/"
        },
        "outputId": "c431f591-ab3d-4901-8e52-3acdcafd7bcf"
      },
      "source": [
        "# mostrar a quantidade de cada tipo de imóvel disponível\n",
        "df_clean.groupby(['room_type'])['id'].count().sort_values(ascending=False)"
      ],
      "execution_count": 104,
      "outputs": [
        {
          "output_type": "execute_result",
          "data": {
            "text/plain": [
              "room_type\n",
              "Entire home/apt    2135\n",
              "Private room       1149\n",
              "Hotel room           36\n",
              "Shared room          28\n",
              "Name: id, dtype: int64"
            ]
          },
          "metadata": {
            "tags": []
          },
          "execution_count": 104
        }
      ]
    },
    {
      "cell_type": "code",
      "metadata": {
        "id": "EvwoO-XAHhIm",
        "colab": {
          "base_uri": "https://localhost:8080/"
        },
        "outputId": "5747d8b3-e75a-4041-98b6-7503b44b4cc3"
      },
      "source": [
        "# mostrar a porcentagem de cada tipo de imóvel disponível\n",
        "\n",
        "(df_clean.groupby(['room_type'])['id'].count()/df_clean.room_type.count()).sort_values(ascending=False)"
      ],
      "execution_count": 105,
      "outputs": [
        {
          "output_type": "execute_result",
          "data": {
            "text/plain": [
              "room_type\n",
              "Entire home/apt    0.637694\n",
              "Private room       0.343190\n",
              "Hotel room         0.010753\n",
              "Shared room        0.008363\n",
              "Name: id, dtype: float64"
            ]
          },
          "metadata": {
            "tags": []
          },
          "execution_count": 105
        }
      ]
    },
    {
      "cell_type": "code",
      "metadata": {
        "id": "pvF1QrqI0pPa"
      },
      "source": [
        "# mostrar a quantidade de cada tipo de imóvel disponível\n",
        "result_df = pd.concat([df_clean.groupby(['room_type'])['id'].count().sort_values(ascending=False), (df_clean.groupby(['room_type'])['id'].count()/df_clean.room_type.count()).sort_values(ascending=False)],axis=1 )"
      ],
      "execution_count": 106,
      "outputs": []
    },
    {
      "cell_type": "code",
      "metadata": {
        "id": "4o1nLLfX1WDT"
      },
      "source": [
        "result_df.columns = ['Quantidade','Percentual']"
      ],
      "execution_count": 107,
      "outputs": []
    },
    {
      "cell_type": "code",
      "metadata": {
        "colab": {
          "base_uri": "https://localhost:8080/",
          "height": 204
        },
        "id": "Y6LabaC02Zm2",
        "outputId": "425bf475-1cfd-49f7-cd77-67227a0498cc"
      },
      "source": [
        "result_df"
      ],
      "execution_count": 108,
      "outputs": [
        {
          "output_type": "execute_result",
          "data": {
            "text/html": [
              "<div>\n",
              "<style scoped>\n",
              "    .dataframe tbody tr th:only-of-type {\n",
              "        vertical-align: middle;\n",
              "    }\n",
              "\n",
              "    .dataframe tbody tr th {\n",
              "        vertical-align: top;\n",
              "    }\n",
              "\n",
              "    .dataframe thead th {\n",
              "        text-align: right;\n",
              "    }\n",
              "</style>\n",
              "<table border=\"1\" class=\"dataframe\">\n",
              "  <thead>\n",
              "    <tr style=\"text-align: right;\">\n",
              "      <th></th>\n",
              "      <th>Quantidade</th>\n",
              "      <th>Percentual</th>\n",
              "    </tr>\n",
              "    <tr>\n",
              "      <th>room_type</th>\n",
              "      <th></th>\n",
              "      <th></th>\n",
              "    </tr>\n",
              "  </thead>\n",
              "  <tbody>\n",
              "    <tr>\n",
              "      <th>Entire home/apt</th>\n",
              "      <td>2135</td>\n",
              "      <td>0.637694</td>\n",
              "    </tr>\n",
              "    <tr>\n",
              "      <th>Private room</th>\n",
              "      <td>1149</td>\n",
              "      <td>0.343190</td>\n",
              "    </tr>\n",
              "    <tr>\n",
              "      <th>Hotel room</th>\n",
              "      <td>36</td>\n",
              "      <td>0.010753</td>\n",
              "    </tr>\n",
              "    <tr>\n",
              "      <th>Shared room</th>\n",
              "      <td>28</td>\n",
              "      <td>0.008363</td>\n",
              "    </tr>\n",
              "  </tbody>\n",
              "</table>\n",
              "</div>"
            ],
            "text/plain": [
              "                 Quantidade  Percentual\n",
              "room_type                              \n",
              "Entire home/apt        2135    0.637694\n",
              "Private room           1149    0.343190\n",
              "Hotel room               36    0.010753\n",
              "Shared room              28    0.008363"
            ]
          },
          "metadata": {
            "tags": []
          },
          "execution_count": 108
        }
      ]
    },
    {
      "cell_type": "markdown",
      "metadata": {
        "id": "pNOLdFocx3PT"
      },
      "source": [
        "Percebemos que imóveis inteiros e quartos privados são os que tem maior disponibilidade."
      ]
    },
    {
      "cell_type": "markdown",
      "metadata": {
        "id": "yEcOT2gK7EVP"
      },
      "source": [
        "Analisando pela disponibilidade nos próximos 365 dias."
      ]
    },
    {
      "cell_type": "code",
      "metadata": {
        "colab": {
          "base_uri": "https://localhost:8080/",
          "height": 297
        },
        "id": "ft7v_2H72i9I",
        "outputId": "467c80c0-befb-49b2-b4db-62a31354250f"
      },
      "source": [
        "df_clean[['availability_365']].describe()"
      ],
      "execution_count": 109,
      "outputs": [
        {
          "output_type": "execute_result",
          "data": {
            "text/html": [
              "<div>\n",
              "<style scoped>\n",
              "    .dataframe tbody tr th:only-of-type {\n",
              "        vertical-align: middle;\n",
              "    }\n",
              "\n",
              "    .dataframe tbody tr th {\n",
              "        vertical-align: top;\n",
              "    }\n",
              "\n",
              "    .dataframe thead th {\n",
              "        text-align: right;\n",
              "    }\n",
              "</style>\n",
              "<table border=\"1\" class=\"dataframe\">\n",
              "  <thead>\n",
              "    <tr style=\"text-align: right;\">\n",
              "      <th></th>\n",
              "      <th>availability_365</th>\n",
              "    </tr>\n",
              "  </thead>\n",
              "  <tbody>\n",
              "    <tr>\n",
              "      <th>count</th>\n",
              "      <td>3348.000000</td>\n",
              "    </tr>\n",
              "    <tr>\n",
              "      <th>mean</th>\n",
              "      <td>165.244922</td>\n",
              "    </tr>\n",
              "    <tr>\n",
              "      <th>std</th>\n",
              "      <td>135.795567</td>\n",
              "    </tr>\n",
              "    <tr>\n",
              "      <th>min</th>\n",
              "      <td>0.000000</td>\n",
              "    </tr>\n",
              "    <tr>\n",
              "      <th>25%</th>\n",
              "      <td>34.000000</td>\n",
              "    </tr>\n",
              "    <tr>\n",
              "      <th>50%</th>\n",
              "      <td>148.000000</td>\n",
              "    </tr>\n",
              "    <tr>\n",
              "      <th>75%</th>\n",
              "      <td>316.000000</td>\n",
              "    </tr>\n",
              "    <tr>\n",
              "      <th>max</th>\n",
              "      <td>365.000000</td>\n",
              "    </tr>\n",
              "  </tbody>\n",
              "</table>\n",
              "</div>"
            ],
            "text/plain": [
              "       availability_365\n",
              "count       3348.000000\n",
              "mean         165.244922\n",
              "std          135.795567\n",
              "min            0.000000\n",
              "25%           34.000000\n",
              "50%          148.000000\n",
              "75%          316.000000\n",
              "max          365.000000"
            ]
          },
          "metadata": {
            "tags": []
          },
          "execution_count": 109
        }
      ]
    },
    {
      "cell_type": "code",
      "metadata": {
        "colab": {
          "base_uri": "https://localhost:8080/"
        },
        "id": "rDgQbtIe3Ps0",
        "outputId": "a177f3ed-a241-4265-f583-462609fbdd64"
      },
      "source": [
        "condition = df_clean.availability_365 < df_clean['availability_365'].quantile(.50)\n",
        "results_2 = df_clean[condition]\n",
        "results_2.groupby(['room_type'])['id'].count().sort_values(ascending=False)"
      ],
      "execution_count": 110,
      "outputs": [
        {
          "output_type": "execute_result",
          "data": {
            "text/plain": [
              "room_type\n",
              "Entire home/apt    1133\n",
              "Private room        521\n",
              "Shared room          12\n",
              "Hotel room            2\n",
              "Name: id, dtype: int64"
            ]
          },
          "metadata": {
            "tags": []
          },
          "execution_count": 110
        }
      ]
    },
    {
      "cell_type": "code",
      "metadata": {
        "colab": {
          "base_uri": "https://localhost:8080/"
        },
        "id": "lmUB6RvK48-2",
        "outputId": "0ce1b58f-de5d-419c-9a13-136a8d9d48be"
      },
      "source": [
        "(results_2.groupby(['room_type'])['id'].count()/results_2.room_type.count()).sort_values(ascending=False)"
      ],
      "execution_count": 111,
      "outputs": [
        {
          "output_type": "execute_result",
          "data": {
            "text/plain": [
              "room_type\n",
              "Entire home/apt    0.679257\n",
              "Private room       0.312350\n",
              "Shared room        0.007194\n",
              "Hotel room         0.001199\n",
              "Name: id, dtype: float64"
            ]
          },
          "metadata": {
            "tags": []
          },
          "execution_count": 111
        }
      ]
    },
    {
      "cell_type": "markdown",
      "metadata": {
        "id": "pXVzoA48yOoM"
      },
      "source": [
        "Se considerarmos que os imóveis que possuem menor disponibilidade são mais locados, e que 50% dos imóveis possuem menos de 148 diárias disponíveis para locação nos próximos 365 dias, podemos inferir que os imóveis inteiros são mais locados que os outros tipos.\n",
        "\n",
        "\n",
        "---\n",
        "\n"
      ]
    },
    {
      "cell_type": "markdown",
      "metadata": {
        "id": "MFa5NbnLJMcd"
      },
      "source": [
        "### **Analisando preços de acordo com as localidades dos imóveis**\n",
        "\n",
        "Para esta analise consideramos os preços médios por bairro e também fizemos um mapa de acordo com a latitude e longitude no intuito de demostrar as regioes e seus difentes preços médios.\n",
        "\n"
      ]
    },
    {
      "cell_type": "code",
      "metadata": {
        "id": "MD_xa143JZpi",
        "colab": {
          "base_uri": "https://localhost:8080/",
          "height": 669
        },
        "outputId": "e518d42e-9d9c-4c29-8990-c86131da62a0"
      },
      "source": [
        "# ver preços por bairros, na média\n",
        "df_clean.groupby('neighbourhood').agg(price=('price','mean'), qtd=('id','count')).sort_values(by=['price'], ascending=False)"
      ],
      "execution_count": 112,
      "outputs": [
        {
          "output_type": "execute_result",
          "data": {
            "text/html": [
              "<div>\n",
              "<style scoped>\n",
              "    .dataframe tbody tr th:only-of-type {\n",
              "        vertical-align: middle;\n",
              "    }\n",
              "\n",
              "    .dataframe tbody tr th {\n",
              "        vertical-align: top;\n",
              "    }\n",
              "\n",
              "    .dataframe thead th {\n",
              "        text-align: right;\n",
              "    }\n",
              "</style>\n",
              "<table border=\"1\" class=\"dataframe\">\n",
              "  <thead>\n",
              "    <tr style=\"text-align: right;\">\n",
              "      <th></th>\n",
              "      <th>price</th>\n",
              "      <th>qtd</th>\n",
              "    </tr>\n",
              "    <tr>\n",
              "      <th>neighbourhood</th>\n",
              "      <th></th>\n",
              "      <th></th>\n",
              "    </tr>\n",
              "  </thead>\n",
              "  <tbody>\n",
              "    <tr>\n",
              "      <th>Koekelberg</th>\n",
              "      <td>70.617647</td>\n",
              "      <td>34</td>\n",
              "    </tr>\n",
              "    <tr>\n",
              "      <th>Bruxelles</th>\n",
              "      <td>70.603194</td>\n",
              "      <td>814</td>\n",
              "    </tr>\n",
              "    <tr>\n",
              "      <th>Jette</th>\n",
              "      <td>66.400000</td>\n",
              "      <td>55</td>\n",
              "    </tr>\n",
              "    <tr>\n",
              "      <th>Auderghem</th>\n",
              "      <td>65.578947</td>\n",
              "      <td>57</td>\n",
              "    </tr>\n",
              "    <tr>\n",
              "      <th>Ixelles</th>\n",
              "      <td>64.852313</td>\n",
              "      <td>562</td>\n",
              "    </tr>\n",
              "    <tr>\n",
              "      <th>Anderlecht</th>\n",
              "      <td>64.540541</td>\n",
              "      <td>148</td>\n",
              "    </tr>\n",
              "    <tr>\n",
              "      <th>Watermael-Boitsfort</th>\n",
              "      <td>64.113636</td>\n",
              "      <td>44</td>\n",
              "    </tr>\n",
              "    <tr>\n",
              "      <th>Uccle</th>\n",
              "      <td>63.858491</td>\n",
              "      <td>212</td>\n",
              "    </tr>\n",
              "    <tr>\n",
              "      <th>Ganshoren</th>\n",
              "      <td>63.000000</td>\n",
              "      <td>19</td>\n",
              "    </tr>\n",
              "    <tr>\n",
              "      <th>Woluwe-Saint-Pierre</th>\n",
              "      <td>62.982456</td>\n",
              "      <td>57</td>\n",
              "    </tr>\n",
              "    <tr>\n",
              "      <th>Etterbeek</th>\n",
              "      <td>62.920904</td>\n",
              "      <td>177</td>\n",
              "    </tr>\n",
              "    <tr>\n",
              "      <th>Forest</th>\n",
              "      <td>61.469274</td>\n",
              "      <td>179</td>\n",
              "    </tr>\n",
              "    <tr>\n",
              "      <th>Molenbeek-Saint-Jean</th>\n",
              "      <td>61.316667</td>\n",
              "      <td>120</td>\n",
              "    </tr>\n",
              "    <tr>\n",
              "      <th>Saint-Gilles</th>\n",
              "      <td>61.000000</td>\n",
              "      <td>367</td>\n",
              "    </tr>\n",
              "    <tr>\n",
              "      <th>Schaerbeek</th>\n",
              "      <td>60.380228</td>\n",
              "      <td>263</td>\n",
              "    </tr>\n",
              "    <tr>\n",
              "      <th>Saint-Josse-ten-Noode</th>\n",
              "      <td>59.475000</td>\n",
              "      <td>80</td>\n",
              "    </tr>\n",
              "    <tr>\n",
              "      <th>Woluwe-Saint-Lambert</th>\n",
              "      <td>59.180952</td>\n",
              "      <td>105</td>\n",
              "    </tr>\n",
              "    <tr>\n",
              "      <th>Evere</th>\n",
              "      <td>59.027027</td>\n",
              "      <td>37</td>\n",
              "    </tr>\n",
              "    <tr>\n",
              "      <th>Berchem-Sainte-Agathe</th>\n",
              "      <td>54.166667</td>\n",
              "      <td>18</td>\n",
              "    </tr>\n",
              "  </tbody>\n",
              "</table>\n",
              "</div>"
            ],
            "text/plain": [
              "                           price  qtd\n",
              "neighbourhood                        \n",
              "Koekelberg             70.617647   34\n",
              "Bruxelles              70.603194  814\n",
              "Jette                  66.400000   55\n",
              "Auderghem              65.578947   57\n",
              "Ixelles                64.852313  562\n",
              "Anderlecht             64.540541  148\n",
              "Watermael-Boitsfort    64.113636   44\n",
              "Uccle                  63.858491  212\n",
              "Ganshoren              63.000000   19\n",
              "Woluwe-Saint-Pierre    62.982456   57\n",
              "Etterbeek              62.920904  177\n",
              "Forest                 61.469274  179\n",
              "Molenbeek-Saint-Jean   61.316667  120\n",
              "Saint-Gilles           61.000000  367\n",
              "Schaerbeek             60.380228  263\n",
              "Saint-Josse-ten-Noode  59.475000   80\n",
              "Woluwe-Saint-Lambert   59.180952  105\n",
              "Evere                  59.027027   37\n",
              "Berchem-Sainte-Agathe  54.166667   18"
            ]
          },
          "metadata": {
            "tags": []
          },
          "execution_count": 112
        }
      ]
    },
    {
      "cell_type": "code",
      "metadata": {
        "id": "OwNMQrf9BuuY"
      },
      "source": [
        "# ver preços por bairros, na média\n",
        "gr = df_clean.groupby(['room_type','neighbourhood']).agg(price=('price','mean')).sort_values(by=['price'], ascending=False).reset_index()"
      ],
      "execution_count": 180,
      "outputs": []
    },
    {
      "cell_type": "code",
      "metadata": {
        "colab": {
          "base_uri": "https://localhost:8080/",
          "height": 1000
        },
        "id": "Eu7iJLcqCtOW",
        "outputId": "3eaffce8-8166-47af-802d-40265697a77a"
      },
      "source": [
        "gr"
      ],
      "execution_count": 181,
      "outputs": [
        {
          "output_type": "execute_result",
          "data": {
            "text/html": [
              "<div>\n",
              "<style scoped>\n",
              "    .dataframe tbody tr th:only-of-type {\n",
              "        vertical-align: middle;\n",
              "    }\n",
              "\n",
              "    .dataframe tbody tr th {\n",
              "        vertical-align: top;\n",
              "    }\n",
              "\n",
              "    .dataframe thead th {\n",
              "        text-align: right;\n",
              "    }\n",
              "</style>\n",
              "<table border=\"1\" class=\"dataframe\">\n",
              "  <thead>\n",
              "    <tr style=\"text-align: right;\">\n",
              "      <th></th>\n",
              "      <th>room_type</th>\n",
              "      <th>neighbourhood</th>\n",
              "      <th>price</th>\n",
              "    </tr>\n",
              "  </thead>\n",
              "  <tbody>\n",
              "    <tr>\n",
              "      <th>0</th>\n",
              "      <td>Hotel room</td>\n",
              "      <td>Saint-Gilles</td>\n",
              "      <td>137.000000</td>\n",
              "    </tr>\n",
              "    <tr>\n",
              "      <th>1</th>\n",
              "      <td>Hotel room</td>\n",
              "      <td>Anderlecht</td>\n",
              "      <td>116.000000</td>\n",
              "    </tr>\n",
              "    <tr>\n",
              "      <th>2</th>\n",
              "      <td>Hotel room</td>\n",
              "      <td>Forest</td>\n",
              "      <td>102.333333</td>\n",
              "    </tr>\n",
              "    <tr>\n",
              "      <th>3</th>\n",
              "      <td>Hotel room</td>\n",
              "      <td>Bruxelles</td>\n",
              "      <td>102.285714</td>\n",
              "    </tr>\n",
              "    <tr>\n",
              "      <th>4</th>\n",
              "      <td>Entire home/apt</td>\n",
              "      <td>Koekelberg</td>\n",
              "      <td>87.304348</td>\n",
              "    </tr>\n",
              "    <tr>\n",
              "      <th>5</th>\n",
              "      <td>Entire home/apt</td>\n",
              "      <td>Watermael-Boitsfort</td>\n",
              "      <td>84.541667</td>\n",
              "    </tr>\n",
              "    <tr>\n",
              "      <th>6</th>\n",
              "      <td>Entire home/apt</td>\n",
              "      <td>Jette</td>\n",
              "      <td>80.228571</td>\n",
              "    </tr>\n",
              "    <tr>\n",
              "      <th>7</th>\n",
              "      <td>Shared room</td>\n",
              "      <td>Anderlecht</td>\n",
              "      <td>80.000000</td>\n",
              "    </tr>\n",
              "    <tr>\n",
              "      <th>8</th>\n",
              "      <td>Entire home/apt</td>\n",
              "      <td>Bruxelles</td>\n",
              "      <td>77.190476</td>\n",
              "    </tr>\n",
              "    <tr>\n",
              "      <th>9</th>\n",
              "      <td>Entire home/apt</td>\n",
              "      <td>Auderghem</td>\n",
              "      <td>77.114286</td>\n",
              "    </tr>\n",
              "    <tr>\n",
              "      <th>10</th>\n",
              "      <td>Entire home/apt</td>\n",
              "      <td>Berchem-Sainte-Agathe</td>\n",
              "      <td>77.000000</td>\n",
              "    </tr>\n",
              "    <tr>\n",
              "      <th>11</th>\n",
              "      <td>Entire home/apt</td>\n",
              "      <td>Uccle</td>\n",
              "      <td>76.418605</td>\n",
              "    </tr>\n",
              "    <tr>\n",
              "      <th>12</th>\n",
              "      <td>Entire home/apt</td>\n",
              "      <td>Molenbeek-Saint-Jean</td>\n",
              "      <td>74.362319</td>\n",
              "    </tr>\n",
              "    <tr>\n",
              "      <th>13</th>\n",
              "      <td>Entire home/apt</td>\n",
              "      <td>Anderlecht</td>\n",
              "      <td>74.170732</td>\n",
              "    </tr>\n",
              "    <tr>\n",
              "      <th>14</th>\n",
              "      <td>Entire home/apt</td>\n",
              "      <td>Woluwe-Saint-Lambert</td>\n",
              "      <td>71.935484</td>\n",
              "    </tr>\n",
              "    <tr>\n",
              "      <th>15</th>\n",
              "      <td>Entire home/apt</td>\n",
              "      <td>Ixelles</td>\n",
              "      <td>71.863636</td>\n",
              "    </tr>\n",
              "    <tr>\n",
              "      <th>16</th>\n",
              "      <td>Entire home/apt</td>\n",
              "      <td>Etterbeek</td>\n",
              "      <td>71.353982</td>\n",
              "    </tr>\n",
              "    <tr>\n",
              "      <th>17</th>\n",
              "      <td>Entire home/apt</td>\n",
              "      <td>Schaerbeek</td>\n",
              "      <td>70.926829</td>\n",
              "    </tr>\n",
              "    <tr>\n",
              "      <th>18</th>\n",
              "      <td>Private room</td>\n",
              "      <td>Ganshoren</td>\n",
              "      <td>69.400000</td>\n",
              "    </tr>\n",
              "    <tr>\n",
              "      <th>19</th>\n",
              "      <td>Entire home/apt</td>\n",
              "      <td>Evere</td>\n",
              "      <td>69.391304</td>\n",
              "    </tr>\n",
              "    <tr>\n",
              "      <th>20</th>\n",
              "      <td>Entire home/apt</td>\n",
              "      <td>Saint-Josse-ten-Noode</td>\n",
              "      <td>69.375000</td>\n",
              "    </tr>\n",
              "    <tr>\n",
              "      <th>21</th>\n",
              "      <td>Entire home/apt</td>\n",
              "      <td>Saint-Gilles</td>\n",
              "      <td>69.285106</td>\n",
              "    </tr>\n",
              "    <tr>\n",
              "      <th>22</th>\n",
              "      <td>Entire home/apt</td>\n",
              "      <td>Woluwe-Saint-Pierre</td>\n",
              "      <td>68.586207</td>\n",
              "    </tr>\n",
              "    <tr>\n",
              "      <th>23</th>\n",
              "      <td>Entire home/apt</td>\n",
              "      <td>Forest</td>\n",
              "      <td>66.368852</td>\n",
              "    </tr>\n",
              "    <tr>\n",
              "      <th>24</th>\n",
              "      <td>Hotel room</td>\n",
              "      <td>Woluwe-Saint-Lambert</td>\n",
              "      <td>64.000000</td>\n",
              "    </tr>\n",
              "    <tr>\n",
              "      <th>25</th>\n",
              "      <td>Hotel room</td>\n",
              "      <td>Schaerbeek</td>\n",
              "      <td>62.500000</td>\n",
              "    </tr>\n",
              "    <tr>\n",
              "      <th>26</th>\n",
              "      <td>Entire home/apt</td>\n",
              "      <td>Ganshoren</td>\n",
              "      <td>60.714286</td>\n",
              "    </tr>\n",
              "    <tr>\n",
              "      <th>27</th>\n",
              "      <td>Private room</td>\n",
              "      <td>Woluwe-Saint-Pierre</td>\n",
              "      <td>57.178571</td>\n",
              "    </tr>\n",
              "    <tr>\n",
              "      <th>28</th>\n",
              "      <td>Private room</td>\n",
              "      <td>Bruxelles</td>\n",
              "      <td>55.317829</td>\n",
              "    </tr>\n",
              "    <tr>\n",
              "      <th>29</th>\n",
              "      <td>Shared room</td>\n",
              "      <td>Bruxelles</td>\n",
              "      <td>52.600000</td>\n",
              "    </tr>\n",
              "    <tr>\n",
              "      <th>30</th>\n",
              "      <td>Private room</td>\n",
              "      <td>Ixelles</td>\n",
              "      <td>48.930818</td>\n",
              "    </tr>\n",
              "    <tr>\n",
              "      <th>31</th>\n",
              "      <td>Private room</td>\n",
              "      <td>Etterbeek</td>\n",
              "      <td>48.709677</td>\n",
              "    </tr>\n",
              "    <tr>\n",
              "      <th>32</th>\n",
              "      <td>Private room</td>\n",
              "      <td>Anderlecht</td>\n",
              "      <td>47.967213</td>\n",
              "    </tr>\n",
              "    <tr>\n",
              "      <th>33</th>\n",
              "      <td>Private room</td>\n",
              "      <td>Auderghem</td>\n",
              "      <td>47.227273</td>\n",
              "    </tr>\n",
              "    <tr>\n",
              "      <th>34</th>\n",
              "      <td>Private room</td>\n",
              "      <td>Saint-Gilles</td>\n",
              "      <td>45.576000</td>\n",
              "    </tr>\n",
              "    <tr>\n",
              "      <th>35</th>\n",
              "      <td>Private room</td>\n",
              "      <td>Saint-Josse-ten-Noode</td>\n",
              "      <td>45.258065</td>\n",
              "    </tr>\n",
              "    <tr>\n",
              "      <th>36</th>\n",
              "      <td>Private room</td>\n",
              "      <td>Forest</td>\n",
              "      <td>44.941176</td>\n",
              "    </tr>\n",
              "    <tr>\n",
              "      <th>37</th>\n",
              "      <td>Private room</td>\n",
              "      <td>Uccle</td>\n",
              "      <td>44.337349</td>\n",
              "    </tr>\n",
              "    <tr>\n",
              "      <th>38</th>\n",
              "      <td>Private room</td>\n",
              "      <td>Molenbeek-Saint-Jean</td>\n",
              "      <td>44.244898</td>\n",
              "    </tr>\n",
              "    <tr>\n",
              "      <th>39</th>\n",
              "      <td>Private room</td>\n",
              "      <td>Schaerbeek</td>\n",
              "      <td>42.505155</td>\n",
              "    </tr>\n",
              "    <tr>\n",
              "      <th>40</th>\n",
              "      <td>Private room</td>\n",
              "      <td>Jette</td>\n",
              "      <td>42.200000</td>\n",
              "    </tr>\n",
              "    <tr>\n",
              "      <th>41</th>\n",
              "      <td>Private room</td>\n",
              "      <td>Evere</td>\n",
              "      <td>42.000000</td>\n",
              "    </tr>\n",
              "    <tr>\n",
              "      <th>42</th>\n",
              "      <td>Private room</td>\n",
              "      <td>Woluwe-Saint-Lambert</td>\n",
              "      <td>40.238095</td>\n",
              "    </tr>\n",
              "    <tr>\n",
              "      <th>43</th>\n",
              "      <td>Private room</td>\n",
              "      <td>Berchem-Sainte-Agathe</td>\n",
              "      <td>39.636364</td>\n",
              "    </tr>\n",
              "    <tr>\n",
              "      <th>44</th>\n",
              "      <td>Private room</td>\n",
              "      <td>Watermael-Boitsfort</td>\n",
              "      <td>39.600000</td>\n",
              "    </tr>\n",
              "    <tr>\n",
              "      <th>45</th>\n",
              "      <td>Private room</td>\n",
              "      <td>Koekelberg</td>\n",
              "      <td>35.727273</td>\n",
              "    </tr>\n",
              "    <tr>\n",
              "      <th>46</th>\n",
              "      <td>Shared room</td>\n",
              "      <td>Ixelles</td>\n",
              "      <td>29.857143</td>\n",
              "    </tr>\n",
              "    <tr>\n",
              "      <th>47</th>\n",
              "      <td>Shared room</td>\n",
              "      <td>Molenbeek-Saint-Jean</td>\n",
              "      <td>29.500000</td>\n",
              "    </tr>\n",
              "    <tr>\n",
              "      <th>48</th>\n",
              "      <td>Shared room</td>\n",
              "      <td>Etterbeek</td>\n",
              "      <td>27.000000</td>\n",
              "    </tr>\n",
              "    <tr>\n",
              "      <th>49</th>\n",
              "      <td>Shared room</td>\n",
              "      <td>Saint-Gilles</td>\n",
              "      <td>26.800000</td>\n",
              "    </tr>\n",
              "    <tr>\n",
              "      <th>50</th>\n",
              "      <td>Shared room</td>\n",
              "      <td>Saint-Josse-ten-Noode</td>\n",
              "      <td>25.000000</td>\n",
              "    </tr>\n",
              "  </tbody>\n",
              "</table>\n",
              "</div>"
            ],
            "text/plain": [
              "          room_type          neighbourhood       price\n",
              "0        Hotel room           Saint-Gilles  137.000000\n",
              "1        Hotel room             Anderlecht  116.000000\n",
              "2        Hotel room                 Forest  102.333333\n",
              "3        Hotel room              Bruxelles  102.285714\n",
              "4   Entire home/apt             Koekelberg   87.304348\n",
              "5   Entire home/apt    Watermael-Boitsfort   84.541667\n",
              "6   Entire home/apt                  Jette   80.228571\n",
              "7       Shared room             Anderlecht   80.000000\n",
              "8   Entire home/apt              Bruxelles   77.190476\n",
              "9   Entire home/apt              Auderghem   77.114286\n",
              "10  Entire home/apt  Berchem-Sainte-Agathe   77.000000\n",
              "11  Entire home/apt                  Uccle   76.418605\n",
              "12  Entire home/apt   Molenbeek-Saint-Jean   74.362319\n",
              "13  Entire home/apt             Anderlecht   74.170732\n",
              "14  Entire home/apt   Woluwe-Saint-Lambert   71.935484\n",
              "15  Entire home/apt                Ixelles   71.863636\n",
              "16  Entire home/apt              Etterbeek   71.353982\n",
              "17  Entire home/apt             Schaerbeek   70.926829\n",
              "18     Private room              Ganshoren   69.400000\n",
              "19  Entire home/apt                  Evere   69.391304\n",
              "20  Entire home/apt  Saint-Josse-ten-Noode   69.375000\n",
              "21  Entire home/apt           Saint-Gilles   69.285106\n",
              "22  Entire home/apt    Woluwe-Saint-Pierre   68.586207\n",
              "23  Entire home/apt                 Forest   66.368852\n",
              "24       Hotel room   Woluwe-Saint-Lambert   64.000000\n",
              "25       Hotel room             Schaerbeek   62.500000\n",
              "26  Entire home/apt              Ganshoren   60.714286\n",
              "27     Private room    Woluwe-Saint-Pierre   57.178571\n",
              "28     Private room              Bruxelles   55.317829\n",
              "29      Shared room              Bruxelles   52.600000\n",
              "30     Private room                Ixelles   48.930818\n",
              "31     Private room              Etterbeek   48.709677\n",
              "32     Private room             Anderlecht   47.967213\n",
              "33     Private room              Auderghem   47.227273\n",
              "34     Private room           Saint-Gilles   45.576000\n",
              "35     Private room  Saint-Josse-ten-Noode   45.258065\n",
              "36     Private room                 Forest   44.941176\n",
              "37     Private room                  Uccle   44.337349\n",
              "38     Private room   Molenbeek-Saint-Jean   44.244898\n",
              "39     Private room             Schaerbeek   42.505155\n",
              "40     Private room                  Jette   42.200000\n",
              "41     Private room                  Evere   42.000000\n",
              "42     Private room   Woluwe-Saint-Lambert   40.238095\n",
              "43     Private room  Berchem-Sainte-Agathe   39.636364\n",
              "44     Private room    Watermael-Boitsfort   39.600000\n",
              "45     Private room             Koekelberg   35.727273\n",
              "46      Shared room                Ixelles   29.857143\n",
              "47      Shared room   Molenbeek-Saint-Jean   29.500000\n",
              "48      Shared room              Etterbeek   27.000000\n",
              "49      Shared room           Saint-Gilles   26.800000\n",
              "50      Shared room  Saint-Josse-ten-Noode   25.000000"
            ]
          },
          "metadata": {
            "tags": []
          },
          "execution_count": 181
        }
      ]
    },
    {
      "cell_type": "markdown",
      "metadata": {
        "id": "d-ykCtYa88U7"
      },
      "source": [
        "Observando a média por bairro, identificamos uma variação relativamente baixa do preço médio. Mas o bairro mais caro é o bairro Koekelberg. Importante considerar que pela diferença de preço em relação ao Bairro Bruxelles e de acordo com a quantidade amostral, pode ser que o preço médio do bairro Koekelberg esteja com um viés, o que precisamos analisar um pouco mais para entender o correto comportamento"
      ]
    },
    {
      "cell_type": "code",
      "metadata": {
        "id": "UxVJqJ_3W59I",
        "colab": {
          "base_uri": "https://localhost:8080/",
          "height": 469
        },
        "outputId": "24983028-f53a-4d55-c3ed-6757c350cb20"
      },
      "source": [
        "# plotar os imóveis pela latitude-longitude\n",
        "\n",
        "df_clean.plot(kind=\"scatter\", x='longitude', y='latitude', alpha=0.4, c=df_clean['price'], s=8,\n",
        "              cmap=plt.get_cmap('jet'), figsize=(12,8));"
      ],
      "execution_count": 113,
      "outputs": [
        {
          "output_type": "display_data",
          "data": {
            "image/png": "[encoded data removed]",
            "text/plain": [
              "<Figure size 864x576 with 2 Axes>"
            ]
          },
          "metadata": {
            "tags": [],
            "needs_background": "light"
          }
        }
      ]
    },
    {
      "cell_type": "markdown",
      "metadata": {
        "id": "B_3XD8XEzGVp"
      },
      "source": [
        "Observando o gráfico não é possível identificar uma região onde um determinado preço seja prevalente, confirmando assim os dados numéricos analisados anteriormente."
      ]
    },
    {
      "cell_type": "markdown",
      "metadata": {
        "id": "vTneAMRUYvr1"
      },
      "source": [
        "### **Analisando a quantidade de noites mínimas para aluguel (minimum_nights)?**\n",
        "\n",
        "Cada locação tem uma restrição de noites mínimas de locação definidas pelo host. Resolvemos analisar esses dados e identificar se isso influenciou de alguma maneira em alguma outra variável."
      ]
    },
    {
      "cell_type": "code",
      "metadata": {
        "id": "_VzNhrEgY82N",
        "colab": {
          "base_uri": "https://localhost:8080/",
          "height": 297
        },
        "outputId": "0850cc6f-6c1b-4445-df85-df8faac7669c"
      },
      "source": [
        "# ver a média da coluna `minimum_nights``\n",
        "df_clean[['minimum_nights']].describe()"
      ],
      "execution_count": 114,
      "outputs": [
        {
          "output_type": "execute_result",
          "data": {
            "text/html": [
              "<div>\n",
              "<style scoped>\n",
              "    .dataframe tbody tr th:only-of-type {\n",
              "        vertical-align: middle;\n",
              "    }\n",
              "\n",
              "    .dataframe tbody tr th {\n",
              "        vertical-align: top;\n",
              "    }\n",
              "\n",
              "    .dataframe thead th {\n",
              "        text-align: right;\n",
              "    }\n",
              "</style>\n",
              "<table border=\"1\" class=\"dataframe\">\n",
              "  <thead>\n",
              "    <tr style=\"text-align: right;\">\n",
              "      <th></th>\n",
              "      <th>minimum_nights</th>\n",
              "    </tr>\n",
              "  </thead>\n",
              "  <tbody>\n",
              "    <tr>\n",
              "      <th>count</th>\n",
              "      <td>3348.000000</td>\n",
              "    </tr>\n",
              "    <tr>\n",
              "      <th>mean</th>\n",
              "      <td>2.523297</td>\n",
              "    </tr>\n",
              "    <tr>\n",
              "      <th>std</th>\n",
              "      <td>1.636635</td>\n",
              "    </tr>\n",
              "    <tr>\n",
              "      <th>min</th>\n",
              "      <td>1.000000</td>\n",
              "    </tr>\n",
              "    <tr>\n",
              "      <th>25%</th>\n",
              "      <td>1.000000</td>\n",
              "    </tr>\n",
              "    <tr>\n",
              "      <th>50%</th>\n",
              "      <td>2.000000</td>\n",
              "    </tr>\n",
              "    <tr>\n",
              "      <th>75%</th>\n",
              "      <td>3.000000</td>\n",
              "    </tr>\n",
              "    <tr>\n",
              "      <th>max</th>\n",
              "      <td>8.000000</td>\n",
              "    </tr>\n",
              "  </tbody>\n",
              "</table>\n",
              "</div>"
            ],
            "text/plain": [
              "       minimum_nights\n",
              "count     3348.000000\n",
              "mean         2.523297\n",
              "std          1.636635\n",
              "min          1.000000\n",
              "25%          1.000000\n",
              "50%          2.000000\n",
              "75%          3.000000\n",
              "max          8.000000"
            ]
          },
          "metadata": {
            "tags": []
          },
          "execution_count": 114
        }
      ]
    },
    {
      "cell_type": "markdown",
      "metadata": {
        "id": "4lnFB-vf-6j9"
      },
      "source": [
        "Na média, o mínimo de noites disponível para locação é 2.52 dias por locação."
      ]
    },
    {
      "cell_type": "code",
      "metadata": {
        "colab": {
          "base_uri": "https://localhost:8080/"
        },
        "id": "Oig60Pvk2Fgn",
        "outputId": "ce403076-5e18-408f-a290-2367799c97a8"
      },
      "source": [
        "df_clean.columns"
      ],
      "execution_count": 115,
      "outputs": [
        {
          "output_type": "execute_result",
          "data": {
            "text/plain": [
              "Index(['id', 'name', 'host_id', 'host_name', 'neighbourhood', 'latitude',\n",
              "       'longitude', 'room_type', 'price', 'minimum_nights',\n",
              "       'number_of_reviews', 'last_review', 'reviews_per_month',\n",
              "       'calculated_host_listings_count', 'availability_365'],\n",
              "      dtype='object')"
            ]
          },
          "metadata": {
            "tags": []
          },
          "execution_count": 115
        }
      ]
    },
    {
      "cell_type": "code",
      "metadata": {
        "colab": {
          "base_uri": "https://localhost:8080/",
          "height": 333
        },
        "id": "bNI6MJqbz_8v",
        "outputId": "e79ee5b1-5407-490f-8028-61eb54d47b80"
      },
      "source": [
        "sns.relplot(\n",
        "    data=df_clean, x=\"minimum_nights\", y=\"price\",col='room_type',\n",
        "    kind=\"scatter\",\n",
        ");"
      ],
      "execution_count": 129,
      "outputs": [
        {
          "output_type": "display_data",
          "data": {
            "image/png": "[encoded data removed]",
            "text/plain": [
              "<Figure size 1440x360 with 4 Axes>"
            ]
          },
          "metadata": {
            "tags": [],
            "needs_background": "light"
          }
        }
      ]
    },
    {
      "cell_type": "markdown",
      "metadata": {
        "id": "S5BH8dCN4BIu"
      },
      "source": [
        "Analisando o mínimo de noites em relação ao preço e também ao tipo de imóvel podemos perceber que os imóveis mais flexíveis em relação o número de noites é o quarto de hotel, tendo em sua maioria a exigencia mínima de 1 dia e podemos observar também valores mais altos nestes casos.\n",
        "\n",
        "Os imóveis com 8 ou mais diárias mínimas possuem valores menores.\n",
        "\n",
        "Os quartos compartilhados também são flexiveis em sua maioria e com menores valores por dia."
      ]
    },
    {
      "cell_type": "markdown",
      "metadata": {
        "id": "GkvAg623RjoR"
      },
      "source": [
        "## Conclusões\n"
      ]
    },
    {
      "cell_type": "markdown",
      "metadata": {
        "id": "rbZ3Hsy9Ypw8"
      },
      "source": [
        "Nesta análise, percebemos que os dados indisponíveis puderam ser substituidos de maneira a não ocorrer perdas. Alguns registros apresentaram outliers onde houve a necessidade de adequar o universo dos dados, onde houve uma perda de 41% dos dados.\n",
        "\n",
        "Analisando a correlação dos dados, percebemos uma possível presença de multicolinearidade, o que pode originar problemas em um treinamento de modelos de machine learning.\n",
        "\n",
        "Se o cliente estiver procurando uma hospedagem mais em conta e sem limite mínimo de diárias, é melhor procurar o quartos compartilhados.\n",
        "\n",
        "Se o cliente está procurando mais de 8 diárias com um melhor preço o ideal é procurar imóveis nos bairros Bruxelles ou Ixelles.\n",
        "\n",
        "\n",
        "\n"
      ]
    }
  ]
}